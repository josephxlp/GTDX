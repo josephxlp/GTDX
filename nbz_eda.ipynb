{
 "cells": [
  {
   "cell_type": "code",
   "execution_count": 4,
   "id": "9f57fe01",
   "metadata": {},
   "outputs": [],
   "source": [
    "from ugeoid import ellipsoid2orthometric"
   ]
  },
  {
   "cell_type": "code",
   "execution_count": 1,
   "id": "0206bb04",
   "metadata": {},
   "outputs": [],
   "source": [
    "tilename = 'N13E103' # S01W063 N10E105\n",
    "gdsm_fn = f\"/media/ljp238/12TBWolf/BRCHIEVE/GDEM/TILES/{tilename}/{tilename}_gdsm_riofill_0_GWR.tif\"\n",
    "gdtm_fn = f\"/media/ljp238/12TBWolf/BRCHIEVE/GDEM/TILES/{tilename}/{tilename}_gdtm_riofill_0_GWR.tif\"\n",
    "pdem_fn = f\"/media/ljp238/12TBWolf/BRCHIEVE/TILES12/{tilename}/{tilename}_pdem.tif\"\n",
    "geoid_fn = f\"/media/ljp238/12TBWolf/BRCHIEVE/TILES12/{tilename}/{tilename}_egm08.tif\""
   ]
  },
  {
   "cell_type": "code",
   "execution_count": 18,
   "id": "b569dc47",
   "metadata": {},
   "outputs": [],
   "source": [
    "hfiles = [gdtm_fn]#[gdsm_fn, gdtm_fn, pdem_fn]\n",
    "Hfiles = [i.replace('.tif', '__EGM.tif') for i in hfiles]\n",
    "for i in range(len(hfiles)):\n",
    "    ellipsoid2orthometric(ellipsoid_dem_path=hfiles[i], \n",
    "                          geoid_model_path=geoid_fn, \n",
    "                          orthometric_output_path=Hfiles[i])\n"
   ]
  },
  {
   "cell_type": "code",
   "execution_count": 19,
   "id": "1c284497",
   "metadata": {},
   "outputs": [
    {
     "data": {
      "text/plain": [
       "(['/media/ljp238/12TBWolf/BRCHIEVE/GDEM/TILES/N13E103/N13E103_gdtm_riofill_0_GWR__EGM.tif'],\n",
       " ['/media/ljp238/12TBWolf/BRCHIEVE/GDEM/TILES/N13E103/N13E103_gdtm_riofill_0_GWR.tif'])"
      ]
     },
     "execution_count": 19,
     "metadata": {},
     "output_type": "execute_result"
    }
   ],
   "source": [
    "Hfiles,hfiles"
   ]
  },
  {
   "cell_type": "code",
   "execution_count": 11,
   "id": "473522e9",
   "metadata": {},
   "outputs": [],
   "source": [
    "fb_path = \"/media/ljp238/12TBWolf/BRCHIEVE/GDEM/TILES/S01W063/S01W063_gdtm_riofill_0_GWR__EGM.tif\"\n",
    "fa_path = \"/media/ljp238/12TBWolf/BRCHIEVE/GDEM/TILES/S01W063/S01W063_gdtm_riofill_0_GWR.tif\"\n",
    "fo_path = fb_path.replace('.tif', '_X.tif')"
   ]
  },
  {
   "cell_type": "code",
   "execution_count": null,
   "id": "29d86b56",
   "metadata": {},
   "outputs": [],
   "source": [
    "import rasterio\n",
    "import numpy as np\n",
    "\n",
    "def min_raster(fa_path, fb_path, fo_path):\n",
    "    # Open both input rasters\n",
    "    with rasterio.open(fa_path) as fa, rasterio.open(fb_path) as fb:\n",
    "        # Check that they match in shape, transform, CRS\n",
    "        if (fa.width != fb.width or fa.height != fb.height or\n",
    "            fa.transform != fb.transform or fa.crs != fb.crs):\n",
    "            raise ValueError(\"Input rasters must have the same dimensions, transform, and CRS\")\n",
    "\n",
    "        # Read the data arrays\n",
    "        fa_data = fa.read(1, masked=True)\n",
    "        fb_data = fb.read(1, masked=True)\n",
    "\n",
    "        # Compute the minimum, ignoring nodata where masked\n",
    "        min_data = np.ma.minimum(fa_data, fb_data)\n",
    "\n",
    "        # Write the result\n",
    "        profile = fa.profile\n",
    "        profile.update(dtype=rasterio.float32, nodata=fa.nodata)\n",
    "\n",
    "        with rasterio.open(fo_path, 'w', **profile) as dst:\n",
    "            dst.write(min_data.filled(fa.nodata).astype(np.float32), 1)\n",
    "    print('min_raster')\n",
    "    # do a 3x3 lower filter here \n"
   ]
  },
  {
   "cell_type": "code",
   "execution_count": 13,
   "id": "24251a89",
   "metadata": {},
   "outputs": [
    {
     "name": "stdout",
     "output_type": "stream",
     "text": [
      "min_raster\n"
     ]
    }
   ],
   "source": [
    "min_raster(fa_path, fb_path, fo_path)"
   ]
  },
  {
   "cell_type": "code",
   "execution_count": null,
   "id": "786b040c",
   "metadata": {},
   "outputs": [],
   "source": []
  }
 ],
 "metadata": {
  "kernelspec": {
   "display_name": "agluon",
   "language": "python",
   "name": "python3"
  },
  "language_info": {
   "codemirror_mode": {
    "name": "ipython",
    "version": 3
   },
   "file_extension": ".py",
   "mimetype": "text/x-python",
   "name": "python",
   "nbconvert_exporter": "python",
   "pygments_lexer": "ipython3",
   "version": "3.11.11"
  }
 },
 "nbformat": 4,
 "nbformat_minor": 5
}
