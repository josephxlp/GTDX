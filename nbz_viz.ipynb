{
 "cells": [
  {
   "cell_type": "code",
   "execution_count": null,
   "id": "9ae5cfce",
   "metadata": {},
   "outputs": [],
   "source": [
    "edem_path = \" \"\n",
    "cdem_path = \" \"\n",
    "anadem_path = \" \" # make a VRT and clip here too \n",
    "fabdem_path = \" \"\n",
    "\n"
   ]
  }
 ],
 "metadata": {
  "language_info": {
   "name": "python"
  }
 },
 "nbformat": 4,
 "nbformat_minor": 5
}
