{
 "cells": [
  {
   "cell_type": "code",
   "execution_count": 47,
   "id": "a46d92f0",
   "metadata": {},
   "outputs": [],
   "source": [
    "import os\n",
    "from concurrent.futures import ProcessPoolExecutor\n",
    "import geopandas as gpd\n",
    "import rasterio\n",
    "from rasterio.mask import mask\n",
    "from shapely.geometry import box\n",
    "\n",
    "def ensure_crs(gdf, target_crs):\n",
    "    \"\"\"Reproject GeoDataFrame if needed.\"\"\"\n",
    "    if gdf.crs != target_crs:\n",
    "        return gdf.to_crs(target_crs)\n",
    "    return gdf\n",
    "\n",
    "def clip_raster_to_bbox(raster_path, bbox_geom, output_path):\n",
    "    \"\"\"Clip raster using bounding box and save to output path.\"\"\"\n",
    "    with rasterio.open(raster_path) as src:\n",
    "        bbox = [bbox_geom]\n",
    "        clipped, transform = mask(src, bbox, crop=True)\n",
    "\n",
    "        out_meta = src.meta.copy()\n",
    "        out_meta.update({\n",
    "            \"driver\": \"GTiff\",\n",
    "            \"height\": clipped.shape[1],\n",
    "            \"width\": clipped.shape[2],\n",
    "            \"transform\": transform\n",
    "        })\n",
    "\n",
    "        os.makedirs(os.path.dirname(output_path), exist_ok=True)\n",
    "        with rasterio.open(output_path, \"w\", **out_meta) as dest:\n",
    "            dest.write(clipped)\n",
    "\n",
    "def process_single_polygon(id, sg_bounds, sg_crs, tif_files, tilename, vboxes_dir):\n",
    "    \"\"\"Process and clip all rasters for a single polygon.\"\"\"\n",
    "    for tif_path in tif_files:\n",
    "        with rasterio.open(tif_path) as src:\n",
    "            if sg_crs != src.crs:\n",
    "                sg_bbox = gpd.GeoSeries([box(*sg_bounds)], crs=sg_crs).to_crs(src.crs).geometry.values[0]\n",
    "            else:\n",
    "                sg_bbox = box(*sg_bounds)\n",
    "\n",
    "            out_dir = os.path.join(vboxes_dir, tilename, f'ID{id}')\n",
    "            out_filename = os.path.join(out_dir, os.path.basename(tif_path))\n",
    "            clip_raster_to_bbox(tif_path, sg_bbox, out_filename)\n",
    "\n",
    "def clip_tifs_by_vbox_rois(vpath, tif_files, tilename=\"mytile\", vboxes_dir=\"vboxes\", max_workers=4, parallel=True):\n",
    "    \"\"\"Main function to clip rasters by vector bounding boxes.\"\"\"\n",
    "    os.makedirs(vboxes_dir, exist_ok=True)\n",
    "    gdf = gpd.read_file(vpath)\n",
    "    gdf['id'] = gdf.index\n",
    "\n",
    "    tasks = []\n",
    "    for id, row in gdf.iterrows():\n",
    "        sg_bounds = row.geometry.bounds\n",
    "        sg_crs = gdf.crs\n",
    "        tasks.append((id, sg_bounds, sg_crs, tif_files, tilename, vboxes_dir))\n",
    "\n",
    "    if parallel:\n",
    "        with ProcessPoolExecutor(max_workers=max_workers) as executor:\n",
    "            executor.map(lambda args: process_single_polygon(*args), tasks)\n",
    "    else:\n",
    "        for task in tasks:\n",
    "            process_single_polygon(*task)\n"
   ]
  },
  {
   "cell_type": "code",
   "execution_count": 48,
   "id": "fc935b8e",
   "metadata": {},
   "outputs": [],
   "source": [
    "tilename = \"N13E103\"\n",
    "ldem_fn = f\"/media/ljp238/12TBWolf/BRCHIEVE/TILES12/{tilename}/{tilename}_ldem.tif\"\n",
    "esa_fn = f\"/media/ljp238/12TBWolf/BRCHIEVE/TILES12/{tilename}/{tilename}_esawc_x.tif\"\n",
    "s1_fn = f\"/media/ljp238/12TBWolf/BRCHIEVE/TILES12/{tilename}/{tilename}_s1.tif\"\n",
    "s2_fn = f\"/media/ljp238/12TBWolf/BRCHIEVE/TILES12/{tilename}/{tilename}_s2.tif\"\n",
    "edem_fn = f\"/media/ljp238/12TBWolf/BRCHIEVE/TILES12/{tilename}/{tilename}_edem_egm.tif\"\n",
    "eth_fn = f\"/media/ljp238/12TBWolf/BRCHIEVE/TILES12/{tilename}/{tilename}_etchm.tif\"\n",
    "wsfbh = f\"/media/ljp238/12TBWolf/BRCHIEVE/TILES12/{tilename}/{tilename}_wsfbh.tif\"\n",
    "vpath = f\"/home/ljp238/Downloads/vboxes/{tilename}_ROIs.gpkg\" # change the name \n",
    "## add more variables like eth,hem\n",
    "tif_files = [ldem_fn, esa_fn, s1_fn,s2_fn, edem_fn,eth_fn,wsfbh]\n",
    "vboxes_dir = \"vboxes\"\n",
    "os.makedirs(vboxes_dir, exist_ok=True)\n",
    "cpus = 12"
   ]
  },
  {
   "cell_type": "code",
   "execution_count": null,
   "id": "a44ffb9d",
   "metadata": {},
   "outputs": [],
   "source": [
    "# cpus = 12\n",
    "# clip_tifs_by_vbox_rois(vpath=vpath, tif_files=tif_files,\n",
    "#                      tilename=tilename, vboxes_dir=vboxes_dir, \n",
    "#                      max_workers=cpus)"
   ]
  },
  {
   "cell_type": "code",
   "execution_count": 50,
   "id": "694cec1d",
   "metadata": {},
   "outputs": [],
   "source": [
    "clip_tifs_by_vbox_rois(vpath=vpath, tif_files=tif_files,\n",
    "                     tilename=tilename, vboxes_dir=vboxes_dir, \n",
    "                     parallel=False)"
   ]
  },
  {
   "cell_type": "markdown",
   "id": "fa4f292d",
   "metadata": {},
   "source": [
    "- run \n",
    "- clean [x]\n",
    "- zip \n",
    "- upload to both onedrive and gmail \n",
    "- push to git \n"
   ]
  },
  {
   "cell_type": "code",
   "execution_count": null,
   "id": "0e55ae7e",
   "metadata": {},
   "outputs": [],
   "source": []
  }
 ],
 "metadata": {
  "kernelspec": {
   "display_name": "agluon",
   "language": "python",
   "name": "python3"
  },
  "language_info": {
   "codemirror_mode": {
    "name": "ipython",
    "version": 3
   },
   "file_extension": ".py",
   "mimetype": "text/x-python",
   "name": "python",
   "nbconvert_exporter": "python",
   "pygments_lexer": "ipython3",
   "version": "3.11.11"
  }
 },
 "nbformat": 4,
 "nbformat_minor": 5
}
