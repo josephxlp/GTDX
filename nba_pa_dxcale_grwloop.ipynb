{
 "cells": [
  {
   "cell_type": "code",
   "execution_count": 1,
   "id": "66ba4344",
   "metadata": {},
   "outputs": [],
   "source": [
    "import logging\n",
    "from utilenames import tilenames_mkd, tilenames_tls, tilenames_rgn\n",
    "from os.path import join, isfile\n",
    "from os import makedirs\n",
    "from glob import glob\n",
    "from uinterp import riofill\n",
    "from ufuncs import get_raster_info, gdal_regrid\n",
    "from uvars import gdsm_v_fn, gdtm_v_fn, egm08_fn, outdir, indir\n",
    "import sys\n",
    "from uvars import topoxcale_dir\n",
    "sys.path.append(topoxcale_dir)\n",
    "from topoxcale.mlxcale import mldownxcale\n",
    "from topoxcale.sagaxcale import gwrdownxcale\n",
    "import time"
   ]
  },
  {
   "cell_type": "markdown",
   "id": "ad164d6a",
   "metadata": {},
   "source": [
    "do the better naming of the data, and clean the functions \n",
    "do the filtering FAST and optimized (1h budget)"
   ]
  },
  {
   "cell_type": "code",
   "execution_count": 2,
   "id": "c5b02f4f",
   "metadata": {},
   "outputs": [
    {
     "name": "stdout",
     "output_type": "stream",
     "text": [
      "2025-05-01 14:46:45,513 - INFO - Loading main variables\n",
      "2025-05-01 14:46:45,523 - INFO - setting baseline dem as tdem_dem\n"
     ]
    }
   ],
   "source": [
    "# Setup logging\n",
    "logging.basicConfig(\n",
    "    level=logging.INFO,\n",
    "    format=\"%(asctime)s - %(levelname)s - %(message)s\",\n",
    "    handlers=[\n",
    "        logging.FileHandler(\"processing.log\"), # add date to this \n",
    "        logging.StreamHandler(sys.stdout)\n",
    "    ]\n",
    ")\n",
    "\n",
    "ti = time.perf_counter()\n",
    "#tilenames #N13E103 #'N10E105','S01W063'\n",
    "logging.info('Loading main variables')\n",
    "#tilenames = ['N13E103']#tilenames_mkd + tilenames_tls + tilenames_rgn\n",
    "tilenames = tilenames_mkd + tilenames_tls + tilenames_rgn\n",
    "varname = \"tdem_dem\" # use EDEM #deps: filling methos for my DEMs\n",
    "roitilenames = tilenames\n",
    "makedirs(outdir, exist_ok=True)\n",
    "xres, yres = 0.01057350068885258912, -0.01057350068885258912\n",
    "t_epsg = 'EPSG:4326'\n",
    "mode = \"num\"\n",
    "\n",
    "varpath = f\"{indir}/*/*{varname}.tif\"\n",
    "varfiles = glob(varpath)\n",
    "roivarfiles = [fi for fi in varfiles for t in roitilenames if t in fi]\n",
    "\n",
    "ta = time.perf_counter()\n",
    "gdsmf_tiles = []\n",
    "gdtmf_tiles = []\n",
    "geoid_tiles = []\n",
    "logging.info(f'setting baseline dem as {varname}')"
   ]
  },
  {
   "cell_type": "code",
   "execution_count": 3,
   "id": "fe023742",
   "metadata": {},
   "outputs": [
    {
     "name": "stdout",
     "output_type": "stream",
     "text": [
      "2025-05-01 14:46:46,369 - INFO - Processing tile: N09E105\n",
      "2025-05-01 14:46:46,392 - INFO - regriding GDSM @N09E105...\n",
      "Source NoData Value: -9999.0\n",
      "Destination NoData Value: -9999.0\n",
      "2025-05-01 14:46:46,466 - INFO - regriding GDTM  @N09E105...\n",
      "Source NoData Value: -9999.0\n",
      "Destination NoData Value: -9999.0\n",
      "2025-05-01 14:46:46,529 - INFO - regriding GEOID  @N09E105...\n",
      "Source NoData Value: -32767.0\n",
      "Destination NoData Value: -9999.0\n",
      "2025-05-01 14:46:46,599 - INFO - tFilling GDSM @N09E105...\n",
      "already created /media/ljp238/12TBWolf/BRCHIEVE/GDEM/TILES/N09E105/N09E105_gdtm_riofill0.tif\n",
      "2025-05-01 14:46:46,601 - INFO - tFilling GDSM @N09E105...\n",
      "already created /media/ljp238/12TBWolf/BRCHIEVE/GDEM/TILES/N09E105/N09E105_gdsm_riofill0.tif\n",
      "2025-05-01 14:46:46,603 - INFO - Processing tile: N09E106\n",
      "2025-05-01 14:46:46,606 - INFO - regriding GDSM @N09E106...\n"
     ]
    },
    {
     "name": "stderr",
     "output_type": "stream",
     "text": [
      "ERROR 1: Output dataset /media/ljp238/12TBWolf/BRCHIEVE/GDEM/TILES/N09E105/N09E105_gdtm_void.tif exists,\n",
      "but some command line options were provided indicating a new dataset\n",
      "should be created.  Please delete existing dataset and run again.\n",
      "\n",
      "ERROR 1: Output dataset /media/ljp238/12TBWolf/BRCHIEVE/GDEM/TILES/N09E105/N09E105_gdsm_void.tif exists,\n",
      "but some command line options were provided indicating a new dataset\n",
      "should be created.  Please delete existing dataset and run again.\n",
      "\n",
      "ERROR 1: Output dataset /media/ljp238/12TBWolf/BRCHIEVE/GDEM/TILES/N09E105/N09E105_egm08.tif exists,\n",
      "but some command line options were provided indicating a new dataset\n",
      "should be created.  Please delete existing dataset and run again.\n",
      "\n"
     ]
    },
    {
     "name": "stdout",
     "output_type": "stream",
     "text": [
      "Source NoData Value: -9999.0\n",
      "Destination NoData Value: -9999.0\n",
      "2025-05-01 14:46:46,673 - INFO - regriding GDTM  @N09E106...\n",
      "Source NoData Value: -9999.0\n",
      "Destination NoData Value: -9999.0\n",
      "2025-05-01 14:46:46,740 - INFO - regriding GEOID  @N09E106...\n",
      "Source NoData Value: -32767.0\n",
      "Destination NoData Value: -9999.0\n",
      "2025-05-01 14:46:46,805 - INFO - tFilling GDSM @N09E106...\n",
      "already created /media/ljp238/12TBWolf/BRCHIEVE/GDEM/TILES/N09E106/N09E106_gdtm_riofill0.tif\n",
      "2025-05-01 14:46:46,807 - INFO - tFilling GDSM @N09E106...\n",
      "already created /media/ljp238/12TBWolf/BRCHIEVE/GDEM/TILES/N09E106/N09E106_gdsm_riofill0.tif\n",
      "2025-05-01 14:46:46,809 - INFO - Processing tile: N10E104\n",
      "2025-05-01 14:46:46,812 - INFO - regriding GDSM @N10E104...\n"
     ]
    },
    {
     "name": "stderr",
     "output_type": "stream",
     "text": [
      "ERROR 1: Output dataset /media/ljp238/12TBWolf/BRCHIEVE/GDEM/TILES/N09E106/N09E106_gdtm_void.tif exists,\n",
      "but some command line options were provided indicating a new dataset\n",
      "should be created.  Please delete existing dataset and run again.\n",
      "\n",
      "ERROR 1: Output dataset /media/ljp238/12TBWolf/BRCHIEVE/GDEM/TILES/N09E106/N09E106_gdsm_void.tif exists,\n",
      "but some command line options were provided indicating a new dataset\n",
      "should be created.  Please delete existing dataset and run again.\n",
      "\n",
      "ERROR 1: Output dataset /media/ljp238/12TBWolf/BRCHIEVE/GDEM/TILES/N09E106/N09E106_egm08.tif exists,\n",
      "but some command line options were provided indicating a new dataset\n",
      "should be created.  Please delete existing dataset and run again.\n",
      "\n"
     ]
    },
    {
     "name": "stdout",
     "output_type": "stream",
     "text": [
      "Source NoData Value: -9999.0\n",
      "Destination NoData Value: -9999.0\n",
      "2025-05-01 14:46:46,879 - INFO - regriding GDTM  @N10E104...\n",
      "Source NoData Value: -9999.0\n",
      "Destination NoData Value: -9999.0\n",
      "2025-05-01 14:46:46,937 - INFO - regriding GEOID  @N10E104...\n",
      "Source NoData Value: -32767.0\n",
      "Destination NoData Value: -9999.0\n",
      "2025-05-01 14:46:47,007 - INFO - tFilling GDSM @N10E104...\n",
      "already created /media/ljp238/12TBWolf/BRCHIEVE/GDEM/TILES/N10E104/N10E104_gdtm_riofill0.tif\n",
      "2025-05-01 14:46:47,009 - INFO - tFilling GDSM @N10E104...\n",
      "already created /media/ljp238/12TBWolf/BRCHIEVE/GDEM/TILES/N10E104/N10E104_gdsm_riofill0.tif\n",
      "2025-05-01 14:46:47,011 - INFO - Processing tile: N10E105\n",
      "2025-05-01 14:46:47,014 - INFO - regriding GDSM @N10E105...\n",
      "Source NoData Value: -9999.0\n",
      "Destination NoData Value: -9999.0\n"
     ]
    },
    {
     "name": "stderr",
     "output_type": "stream",
     "text": [
      "ERROR 1: Output dataset /media/ljp238/12TBWolf/BRCHIEVE/GDEM/TILES/N10E104/N10E104_gdtm_void.tif exists,\n",
      "but some command line options were provided indicating a new dataset\n",
      "should be created.  Please delete existing dataset and run again.\n",
      "\n",
      "ERROR 1: Output dataset /media/ljp238/12TBWolf/BRCHIEVE/GDEM/TILES/N10E104/N10E104_gdsm_void.tif exists,\n",
      "but some command line options were provided indicating a new dataset\n",
      "should be created.  Please delete existing dataset and run again.\n",
      "\n",
      "ERROR 1: Output dataset /media/ljp238/12TBWolf/BRCHIEVE/GDEM/TILES/N10E104/N10E104_egm08.tif exists,\n",
      "but some command line options were provided indicating a new dataset\n",
      "should be created.  Please delete existing dataset and run again.\n",
      "\n",
      "ERROR 1: Output dataset /media/ljp238/12TBWolf/BRCHIEVE/GDEM/TILES/N10E105/N10E105_gdtm_void.tif exists,\n",
      "but some command line options were provided indicating a new dataset\n",
      "should be created.  Please delete existing dataset and run again.\n",
      "\n"
     ]
    },
    {
     "name": "stdout",
     "output_type": "stream",
     "text": [
      "2025-05-01 14:46:47,080 - INFO - regriding GDTM  @N10E105...\n",
      "Source NoData Value: -9999.0\n",
      "Destination NoData Value: -9999.0\n",
      "2025-05-01 14:46:47,148 - INFO - regriding GEOID  @N10E105...\n",
      "Source NoData Value: -32767.0\n",
      "Destination NoData Value: -9999.0\n",
      "2025-05-01 14:46:47,212 - INFO - tFilling GDSM @N10E105...\n",
      "already created /media/ljp238/12TBWolf/BRCHIEVE/GDEM/TILES/N10E105/N10E105_gdtm_riofill0.tif\n",
      "2025-05-01 14:46:47,214 - INFO - tFilling GDSM @N10E105...\n",
      "already created /media/ljp238/12TBWolf/BRCHIEVE/GDEM/TILES/N10E105/N10E105_gdsm_riofill0.tif\n",
      "2025-05-01 14:46:47,215 - INFO - Processing tile: N10E106\n",
      "2025-05-01 14:46:47,218 - INFO - regriding GDSM @N10E106...\n",
      "Source NoData Value: -9999.0\n",
      "Destination NoData Value: -9999.0\n",
      "2025-05-01 14:46:47,279 - INFO - regriding GDTM  @N10E106...\n",
      "Source NoData Value: -9999.0\n",
      "Destination NoData Value: -9999.0\n",
      "2025-05-01 14:46:47,335 - INFO - regriding GEOID  @N10E106...\n"
     ]
    },
    {
     "name": "stderr",
     "output_type": "stream",
     "text": [
      "ERROR 1: Output dataset /media/ljp238/12TBWolf/BRCHIEVE/GDEM/TILES/N10E105/N10E105_gdsm_void.tif exists,\n",
      "but some command line options were provided indicating a new dataset\n",
      "should be created.  Please delete existing dataset and run again.\n",
      "\n",
      "ERROR 1: Output dataset /media/ljp238/12TBWolf/BRCHIEVE/GDEM/TILES/N10E105/N10E105_egm08.tif exists,\n",
      "but some command line options were provided indicating a new dataset\n",
      "should be created.  Please delete existing dataset and run again.\n",
      "\n",
      "ERROR 1: Output dataset /media/ljp238/12TBWolf/BRCHIEVE/GDEM/TILES/N10E106/N10E106_gdtm_void.tif exists,\n",
      "but some command line options were provided indicating a new dataset\n",
      "should be created.  Please delete existing dataset and run again.\n",
      "\n",
      "ERROR 1: Output dataset /media/ljp238/12TBWolf/BRCHIEVE/GDEM/TILES/N10E106/N10E106_gdsm_void.tif exists,\n",
      "but some command line options were provided indicating a new dataset\n",
      "should be created.  Please delete existing dataset and run again.\n",
      "\n"
     ]
    },
    {
     "name": "stdout",
     "output_type": "stream",
     "text": [
      "Source NoData Value: -32767.0\n",
      "Destination NoData Value: -9999.0\n",
      "2025-05-01 14:46:47,391 - INFO - tFilling GDSM @N10E106...\n",
      "already created /media/ljp238/12TBWolf/BRCHIEVE/GDEM/TILES/N10E106/N10E106_gdtm_riofill0.tif\n",
      "2025-05-01 14:46:47,393 - INFO - tFilling GDSM @N10E106...\n",
      "already created /media/ljp238/12TBWolf/BRCHIEVE/GDEM/TILES/N10E106/N10E106_gdsm_riofill0.tif\n",
      "2025-05-01 14:46:47,395 - INFO - Processing tile: N11E104\n",
      "2025-05-01 14:46:47,398 - INFO - regriding GDSM @N11E104...\n",
      "Source NoData Value: -9999.0\n",
      "Destination NoData Value: -9999.0\n",
      "2025-05-01 14:46:47,462 - INFO - regriding GDTM  @N11E104...\n",
      "Source NoData Value: -9999.0\n",
      "Destination NoData Value: -9999.0\n",
      "2025-05-01 14:46:47,519 - INFO - regriding GEOID  @N11E104...\n",
      "Source NoData Value: -32767.0\n",
      "Destination NoData Value: -9999.0\n"
     ]
    },
    {
     "name": "stderr",
     "output_type": "stream",
     "text": [
      "ERROR 1: Output dataset /media/ljp238/12TBWolf/BRCHIEVE/GDEM/TILES/N10E106/N10E106_egm08.tif exists,\n",
      "but some command line options were provided indicating a new dataset\n",
      "should be created.  Please delete existing dataset and run again.\n",
      "\n",
      "ERROR 1: Output dataset /media/ljp238/12TBWolf/BRCHIEVE/GDEM/TILES/N11E104/N11E104_gdtm_void.tif exists,\n",
      "but some command line options were provided indicating a new dataset\n",
      "should be created.  Please delete existing dataset and run again.\n",
      "\n",
      "ERROR 1: Output dataset /media/ljp238/12TBWolf/BRCHIEVE/GDEM/TILES/N11E104/N11E104_gdsm_void.tif exists,\n",
      "but some command line options were provided indicating a new dataset\n",
      "should be created.  Please delete existing dataset and run again.\n",
      "\n",
      "ERROR 1: Output dataset /media/ljp238/12TBWolf/BRCHIEVE/GDEM/TILES/N11E104/N11E104_egm08.tif exists,\n",
      "but some command line options were provided indicating a new dataset\n",
      "should be created.  Please delete existing dataset and run again.\n",
      "\n"
     ]
    },
    {
     "name": "stdout",
     "output_type": "stream",
     "text": [
      "2025-05-01 14:46:47,590 - INFO - tFilling GDSM @N11E104...\n",
      "already created /media/ljp238/12TBWolf/BRCHIEVE/GDEM/TILES/N11E104/N11E104_gdtm_riofill0.tif\n",
      "2025-05-01 14:46:47,591 - INFO - tFilling GDSM @N11E104...\n",
      "already created /media/ljp238/12TBWolf/BRCHIEVE/GDEM/TILES/N11E104/N11E104_gdsm_riofill0.tif\n",
      "2025-05-01 14:46:47,593 - INFO - Processing tile: N11E105\n",
      "2025-05-01 14:46:47,596 - INFO - regriding GDSM @N11E105...\n",
      "Source NoData Value: -9999.0\n",
      "Destination NoData Value: -9999.0\n",
      "2025-05-01 14:46:47,658 - INFO - regriding GDTM  @N11E105...\n",
      "Source NoData Value: -9999.0\n",
      "Destination NoData Value: -9999.0\n",
      "2025-05-01 14:46:47,722 - INFO - regriding GEOID  @N11E105...\n",
      "Source NoData Value: -32767.0\n",
      "Destination NoData Value: -9999.0\n",
      "2025-05-01 14:46:47,786 - INFO - tFilling GDSM @N11E105...\n",
      "already created /media/ljp238/12TBWolf/BRCHIEVE/GDEM/TILES/N11E105/N11E105_gdtm_riofill0.tif\n",
      "2025-05-01 14:46:47,788 - INFO - tFilling GDSM @N11E105...\n",
      "already created /media/ljp238/12TBWolf/BRCHIEVE/GDEM/TILES/N11E105/N11E105_gdsm_riofill0.tif\n",
      "2025-05-01 14:46:47,790 - INFO - Processing tile: N12E103\n",
      "2025-05-01 14:46:47,793 - INFO - regriding GDSM @N12E103...\n",
      "Source NoData Value: -9999.0\n",
      "Destination NoData Value: -9999.0\n"
     ]
    },
    {
     "name": "stderr",
     "output_type": "stream",
     "text": [
      "ERROR 1: Output dataset /media/ljp238/12TBWolf/BRCHIEVE/GDEM/TILES/N11E105/N11E105_gdtm_void.tif exists,\n",
      "but some command line options were provided indicating a new dataset\n",
      "should be created.  Please delete existing dataset and run again.\n",
      "\n",
      "ERROR 1: Output dataset /media/ljp238/12TBWolf/BRCHIEVE/GDEM/TILES/N11E105/N11E105_gdsm_void.tif exists,\n",
      "but some command line options were provided indicating a new dataset\n",
      "should be created.  Please delete existing dataset and run again.\n",
      "\n",
      "ERROR 1: Output dataset /media/ljp238/12TBWolf/BRCHIEVE/GDEM/TILES/N11E105/N11E105_egm08.tif exists,\n",
      "but some command line options were provided indicating a new dataset\n",
      "should be created.  Please delete existing dataset and run again.\n",
      "\n",
      "ERROR 1: Output dataset /media/ljp238/12TBWolf/BRCHIEVE/GDEM/TILES/N12E103/N12E103_gdtm_void.tif exists,\n",
      "but some command line options were provided indicating a new dataset\n",
      "should be created.  Please delete existing dataset and run again.\n",
      "\n"
     ]
    },
    {
     "name": "stdout",
     "output_type": "stream",
     "text": [
      "2025-05-01 14:46:47,856 - INFO - regriding GDTM  @N12E103...\n",
      "Source NoData Value: -9999.0\n",
      "Destination NoData Value: -9999.0\n",
      "2025-05-01 14:46:47,917 - INFO - regriding GEOID  @N12E103...\n",
      "Source NoData Value: -32767.0\n",
      "Destination NoData Value: -9999.0\n",
      "2025-05-01 14:46:47,974 - INFO - tFilling GDSM @N12E103...\n",
      "already created /media/ljp238/12TBWolf/BRCHIEVE/GDEM/TILES/N12E103/N12E103_gdtm_riofill0.tif\n",
      "2025-05-01 14:46:47,975 - INFO - tFilling GDSM @N12E103...\n",
      "already created /media/ljp238/12TBWolf/BRCHIEVE/GDEM/TILES/N12E103/N12E103_gdsm_riofill0.tif\n",
      "2025-05-01 14:46:47,977 - INFO - Processing tile: N12E104\n",
      "2025-05-01 14:46:47,980 - INFO - regriding GDSM @N12E104...\n",
      "Source NoData Value: -9999.0\n",
      "Destination NoData Value: -9999.0\n",
      "2025-05-01 14:46:48,048 - INFO - regriding GDTM  @N12E104...\n",
      "Source NoData Value: -9999.0\n",
      "Destination NoData Value: -9999.0\n",
      "2025-05-01 14:46:48,105 - INFO - regriding GEOID  @N12E104...\n"
     ]
    },
    {
     "name": "stderr",
     "output_type": "stream",
     "text": [
      "ERROR 1: Output dataset /media/ljp238/12TBWolf/BRCHIEVE/GDEM/TILES/N12E103/N12E103_gdsm_void.tif exists,\n",
      "but some command line options were provided indicating a new dataset\n",
      "should be created.  Please delete existing dataset and run again.\n",
      "\n",
      "ERROR 1: Output dataset /media/ljp238/12TBWolf/BRCHIEVE/GDEM/TILES/N12E103/N12E103_egm08.tif exists,\n",
      "but some command line options were provided indicating a new dataset\n",
      "should be created.  Please delete existing dataset and run again.\n",
      "\n",
      "ERROR 1: Output dataset /media/ljp238/12TBWolf/BRCHIEVE/GDEM/TILES/N12E104/N12E104_gdtm_void.tif exists,\n",
      "but some command line options were provided indicating a new dataset\n",
      "should be created.  Please delete existing dataset and run again.\n",
      "\n",
      "ERROR 1: Output dataset /media/ljp238/12TBWolf/BRCHIEVE/GDEM/TILES/N12E104/N12E104_gdsm_void.tif exists,\n",
      "but some command line options were provided indicating a new dataset\n",
      "should be created.  Please delete existing dataset and run again.\n",
      "\n"
     ]
    },
    {
     "name": "stdout",
     "output_type": "stream",
     "text": [
      "Source NoData Value: -32767.0\n",
      "Destination NoData Value: -9999.0\n",
      "2025-05-01 14:46:48,162 - INFO - tFilling GDSM @N12E104...\n",
      "already created /media/ljp238/12TBWolf/BRCHIEVE/GDEM/TILES/N12E104/N12E104_gdtm_riofill0.tif\n",
      "2025-05-01 14:46:48,164 - INFO - tFilling GDSM @N12E104...\n",
      "already created /media/ljp238/12TBWolf/BRCHIEVE/GDEM/TILES/N12E104/N12E104_gdsm_riofill0.tif\n",
      "2025-05-01 14:46:48,166 - INFO - Processing tile: N12E105\n",
      "2025-05-01 14:46:48,169 - INFO - regriding GDSM @N12E105...\n",
      "Source NoData Value: -9999.0\n",
      "Destination NoData Value: -9999.0\n",
      "2025-05-01 14:46:48,231 - INFO - regriding GDTM  @N12E105...\n",
      "Source NoData Value: -9999.0\n",
      "Destination NoData Value: -9999.0\n",
      "2025-05-01 14:46:48,299 - INFO - regriding GEOID  @N12E105...\n",
      "Source NoData Value: -32767.0\n",
      "Destination NoData Value: -9999.0\n"
     ]
    },
    {
     "name": "stderr",
     "output_type": "stream",
     "text": [
      "ERROR 1: Output dataset /media/ljp238/12TBWolf/BRCHIEVE/GDEM/TILES/N12E104/N12E104_egm08.tif exists,\n",
      "but some command line options were provided indicating a new dataset\n",
      "should be created.  Please delete existing dataset and run again.\n",
      "\n",
      "ERROR 1: Output dataset /media/ljp238/12TBWolf/BRCHIEVE/GDEM/TILES/N12E105/N12E105_gdtm_void.tif exists,\n",
      "but some command line options were provided indicating a new dataset\n",
      "should be created.  Please delete existing dataset and run again.\n",
      "\n",
      "ERROR 1: Output dataset /media/ljp238/12TBWolf/BRCHIEVE/GDEM/TILES/N12E105/N12E105_gdsm_void.tif exists,\n",
      "but some command line options were provided indicating a new dataset\n",
      "should be created.  Please delete existing dataset and run again.\n",
      "\n"
     ]
    },
    {
     "name": "stdout",
     "output_type": "stream",
     "text": [
      "2025-05-01 14:46:48,369 - INFO - tFilling GDSM @N12E105...\n",
      "already created /media/ljp238/12TBWolf/BRCHIEVE/GDEM/TILES/N12E105/N12E105_gdtm_riofill0.tif\n",
      "2025-05-01 14:46:48,371 - INFO - tFilling GDSM @N12E105...\n",
      "already created /media/ljp238/12TBWolf/BRCHIEVE/GDEM/TILES/N12E105/N12E105_gdsm_riofill0.tif\n",
      "2025-05-01 14:46:48,373 - INFO - Processing tile: N13E103\n",
      "2025-05-01 14:46:48,376 - INFO - regriding GDSM @N13E103...\n",
      "Source NoData Value: -9999.0\n",
      "Destination NoData Value: -9999.0\n",
      "2025-05-01 14:46:48,444 - INFO - regriding GDTM  @N13E103...\n",
      "Source NoData Value: -9999.0\n",
      "Destination NoData Value: -9999.0\n",
      "2025-05-01 14:46:48,508 - INFO - regriding GEOID  @N13E103...\n"
     ]
    },
    {
     "name": "stderr",
     "output_type": "stream",
     "text": [
      "ERROR 1: Output dataset /media/ljp238/12TBWolf/BRCHIEVE/GDEM/TILES/N12E105/N12E105_egm08.tif exists,\n",
      "but some command line options were provided indicating a new dataset\n",
      "should be created.  Please delete existing dataset and run again.\n",
      "\n",
      "ERROR 1: Output dataset /media/ljp238/12TBWolf/BRCHIEVE/GDEM/TILES/N13E103/N13E103_gdtm_void.tif exists,\n",
      "but some command line options were provided indicating a new dataset\n",
      "should be created.  Please delete existing dataset and run again.\n",
      "\n",
      "ERROR 1: Output dataset /media/ljp238/12TBWolf/BRCHIEVE/GDEM/TILES/N13E103/N13E103_gdsm_void.tif exists,\n",
      "but some command line options were provided indicating a new dataset\n",
      "should be created.  Please delete existing dataset and run again.\n",
      "\n"
     ]
    },
    {
     "name": "stdout",
     "output_type": "stream",
     "text": [
      "Source NoData Value: -32767.0\n",
      "Destination NoData Value: -9999.0\n",
      "2025-05-01 14:46:48,576 - INFO - tFilling GDSM @N13E103...\n",
      "already created /media/ljp238/12TBWolf/BRCHIEVE/GDEM/TILES/N13E103/N13E103_gdtm_riofill0.tif\n",
      "2025-05-01 14:46:48,577 - INFO - tFilling GDSM @N13E103...\n",
      "already created /media/ljp238/12TBWolf/BRCHIEVE/GDEM/TILES/N13E103/N13E103_gdsm_riofill0.tif\n",
      "2025-05-01 14:46:48,579 - INFO - Processing tile: N13E104\n",
      "2025-05-01 14:46:48,582 - INFO - regriding GDSM @N13E104...\n",
      "Source NoData Value: -9999.0\n",
      "Destination NoData Value: -9999.0\n",
      "2025-05-01 14:46:48,644 - INFO - regriding GDTM  @N13E104...\n",
      "Source NoData Value: -9999.0\n",
      "Destination NoData Value: -9999.0\n",
      "2025-05-01 14:46:48,711 - INFO - regriding GEOID  @N13E104...\n"
     ]
    },
    {
     "name": "stderr",
     "output_type": "stream",
     "text": [
      "ERROR 1: Output dataset /media/ljp238/12TBWolf/BRCHIEVE/GDEM/TILES/N13E103/N13E103_egm08.tif exists,\n",
      "but some command line options were provided indicating a new dataset\n",
      "should be created.  Please delete existing dataset and run again.\n",
      "\n",
      "ERROR 1: Output dataset /media/ljp238/12TBWolf/BRCHIEVE/GDEM/TILES/N13E104/N13E104_gdtm_void.tif exists,\n",
      "but some command line options were provided indicating a new dataset\n",
      "should be created.  Please delete existing dataset and run again.\n",
      "\n",
      "ERROR 1: Output dataset /media/ljp238/12TBWolf/BRCHIEVE/GDEM/TILES/N13E104/N13E104_gdsm_void.tif exists,\n",
      "but some command line options were provided indicating a new dataset\n",
      "should be created.  Please delete existing dataset and run again.\n",
      "\n"
     ]
    },
    {
     "name": "stdout",
     "output_type": "stream",
     "text": [
      "Source NoData Value: -32767.0\n",
      "Destination NoData Value: -9999.0\n",
      "2025-05-01 14:46:48,780 - INFO - tFilling GDSM @N13E104...\n",
      "already created /media/ljp238/12TBWolf/BRCHIEVE/GDEM/TILES/N13E104/N13E104_gdtm_riofill0.tif\n",
      "2025-05-01 14:46:48,782 - INFO - tFilling GDSM @N13E104...\n",
      "already created /media/ljp238/12TBWolf/BRCHIEVE/GDEM/TILES/N13E104/N13E104_gdsm_riofill0.tif\n",
      "2025-05-01 14:46:48,783 - INFO - Processing tile: N13E105\n",
      "2025-05-01 14:46:48,786 - INFO - regriding GDSM @N13E105...\n",
      "Source NoData Value: -9999.0\n",
      "Destination NoData Value: -9999.0\n",
      "2025-05-01 14:46:48,851 - INFO - regriding GDTM  @N13E105...\n",
      "Source NoData Value: -9999.0\n",
      "Destination NoData Value: -9999.0\n",
      "2025-05-01 14:46:48,922 - INFO - regriding GEOID  @N13E105...\n"
     ]
    },
    {
     "name": "stderr",
     "output_type": "stream",
     "text": [
      "ERROR 1: Output dataset /media/ljp238/12TBWolf/BRCHIEVE/GDEM/TILES/N13E104/N13E104_egm08.tif exists,\n",
      "but some command line options were provided indicating a new dataset\n",
      "should be created.  Please delete existing dataset and run again.\n",
      "\n",
      "ERROR 1: Output dataset /media/ljp238/12TBWolf/BRCHIEVE/GDEM/TILES/N13E105/N13E105_gdtm_void.tif exists,\n",
      "but some command line options were provided indicating a new dataset\n",
      "should be created.  Please delete existing dataset and run again.\n",
      "\n",
      "ERROR 1: Output dataset /media/ljp238/12TBWolf/BRCHIEVE/GDEM/TILES/N13E105/N13E105_gdsm_void.tif exists,\n",
      "but some command line options were provided indicating a new dataset\n",
      "should be created.  Please delete existing dataset and run again.\n",
      "\n"
     ]
    },
    {
     "name": "stdout",
     "output_type": "stream",
     "text": [
      "Source NoData Value: -32767.0\n",
      "Destination NoData Value: -9999.0\n",
      "2025-05-01 14:46:48,989 - INFO - tFilling GDSM @N13E105...\n",
      "already created /media/ljp238/12TBWolf/BRCHIEVE/GDEM/TILES/N13E105/N13E105_gdtm_riofill0.tif\n",
      "2025-05-01 14:46:48,990 - INFO - tFilling GDSM @N13E105...\n",
      "already created /media/ljp238/12TBWolf/BRCHIEVE/GDEM/TILES/N13E105/N13E105_gdsm_riofill0.tif\n",
      "2025-05-01 14:46:48,993 - INFO - Processing tile: S01W063\n",
      "2025-05-01 14:46:48,996 - INFO - regriding GDSM @S01W063...\n",
      "Source NoData Value: -9999.0\n",
      "Destination NoData Value: -9999.0\n",
      "2025-05-01 14:46:49,057 - INFO - regriding GDTM  @S01W063...\n",
      "Source NoData Value: -9999.0\n",
      "Destination NoData Value: -9999.0\n",
      "2025-05-01 14:46:49,126 - INFO - regriding GEOID  @S01W063...\n"
     ]
    },
    {
     "name": "stderr",
     "output_type": "stream",
     "text": [
      "ERROR 1: Output dataset /media/ljp238/12TBWolf/BRCHIEVE/GDEM/TILES/N13E105/N13E105_egm08.tif exists,\n",
      "but some command line options were provided indicating a new dataset\n",
      "should be created.  Please delete existing dataset and run again.\n",
      "\n",
      "ERROR 1: Output dataset /media/ljp238/12TBWolf/BRCHIEVE/GDEM/TILES/S01W063/S01W063_gdtm_void.tif exists,\n",
      "but some command line options were provided indicating a new dataset\n",
      "should be created.  Please delete existing dataset and run again.\n",
      "\n",
      "ERROR 1: Output dataset /media/ljp238/12TBWolf/BRCHIEVE/GDEM/TILES/S01W063/S01W063_gdsm_void.tif exists,\n",
      "but some command line options were provided indicating a new dataset\n",
      "should be created.  Please delete existing dataset and run again.\n",
      "\n"
     ]
    },
    {
     "name": "stdout",
     "output_type": "stream",
     "text": [
      "Source NoData Value: -32767.0\n",
      "Destination NoData Value: -9999.0\n",
      "2025-05-01 14:46:49,190 - INFO - tFilling GDSM @S01W063...\n",
      "already created /media/ljp238/12TBWolf/BRCHIEVE/GDEM/TILES/S01W063/S01W063_gdtm_riofill0.tif\n",
      "2025-05-01 14:46:49,192 - INFO - tFilling GDSM @S01W063...\n",
      "already created /media/ljp238/12TBWolf/BRCHIEVE/GDEM/TILES/S01W063/S01W063_gdsm_riofill0.tif\n",
      "2025-05-01 14:46:49,194 - INFO - Processing tile: S01W064\n",
      "2025-05-01 14:46:49,197 - INFO - regriding GDSM @S01W064...\n",
      "Source NoData Value: -9999.0\n",
      "Destination NoData Value: -9999.0\n",
      "2025-05-01 14:46:49,266 - INFO - regriding GDTM  @S01W064...\n",
      "Source NoData Value: -9999.0\n",
      "Destination NoData Value: -9999.0\n",
      "2025-05-01 14:46:49,322 - INFO - regriding GEOID  @S01W064...\n",
      "Source NoData Value: -32767.0\n",
      "Destination NoData Value: -9999.0\n",
      "2025-05-01 14:46:49,378 - INFO - tFilling GDSM @S01W064...\n",
      "already created /media/ljp238/12TBWolf/BRCHIEVE/GDEM/TILES/S01W064/S01W064_gdtm_riofill0.tif\n",
      "2025-05-01 14:46:49,380 - INFO - tFilling GDSM @S01W064...\n",
      "already created /media/ljp238/12TBWolf/BRCHIEVE/GDEM/TILES/S01W064/S01W064_gdsm_riofill0.tif\n",
      "2025-05-01 14:46:49,382 - INFO - Processing tile: S02W063\n",
      "2025-05-01 14:46:49,385 - INFO - regriding GDSM @S02W063...\n"
     ]
    },
    {
     "name": "stderr",
     "output_type": "stream",
     "text": [
      "ERROR 1: Output dataset /media/ljp238/12TBWolf/BRCHIEVE/GDEM/TILES/S01W063/S01W063_egm08.tif exists,\n",
      "but some command line options were provided indicating a new dataset\n",
      "should be created.  Please delete existing dataset and run again.\n",
      "\n",
      "ERROR 1: Output dataset /media/ljp238/12TBWolf/BRCHIEVE/GDEM/TILES/S01W064/S01W064_gdtm_void.tif exists,\n",
      "but some command line options were provided indicating a new dataset\n",
      "should be created.  Please delete existing dataset and run again.\n",
      "\n",
      "ERROR 1: Output dataset /media/ljp238/12TBWolf/BRCHIEVE/GDEM/TILES/S01W064/S01W064_gdsm_void.tif exists,\n",
      "but some command line options were provided indicating a new dataset\n",
      "should be created.  Please delete existing dataset and run again.\n",
      "\n",
      "ERROR 1: Output dataset /media/ljp238/12TBWolf/BRCHIEVE/GDEM/TILES/S01W064/S01W064_egm08.tif exists,\n",
      "but some command line options were provided indicating a new dataset\n",
      "should be created.  Please delete existing dataset and run again.\n",
      "\n"
     ]
    },
    {
     "name": "stdout",
     "output_type": "stream",
     "text": [
      "Source NoData Value: -9999.0\n",
      "Destination NoData Value: -9999.0\n",
      "2025-05-01 14:46:49,454 - INFO - regriding GDTM  @S02W063...\n",
      "Source NoData Value: -9999.0\n",
      "Destination NoData Value: -9999.0\n",
      "2025-05-01 14:46:49,515 - INFO - regriding GEOID  @S02W063...\n",
      "Source NoData Value: -32767.0\n",
      "Destination NoData Value: -9999.0\n",
      "2025-05-01 14:46:49,577 - INFO - tFilling GDSM @S02W063...\n",
      "already created /media/ljp238/12TBWolf/BRCHIEVE/GDEM/TILES/S02W063/S02W063_gdtm_riofill0.tif\n",
      "2025-05-01 14:46:49,579 - INFO - tFilling GDSM @S02W063...\n",
      "already created /media/ljp238/12TBWolf/BRCHIEVE/GDEM/TILES/S02W063/S02W063_gdsm_riofill0.tif\n",
      "2025-05-01 14:46:49,581 - INFO - Processing tile: S02W064\n",
      "2025-05-01 14:46:49,584 - INFO - regriding GDSM @S02W064...\n",
      "Source NoData Value: -9999.0\n",
      "Destination NoData Value: -9999.0\n",
      "2025-05-01 14:46:49,646 - INFO - regriding GDTM  @S02W064...\n"
     ]
    },
    {
     "name": "stderr",
     "output_type": "stream",
     "text": [
      "ERROR 1: Output dataset /media/ljp238/12TBWolf/BRCHIEVE/GDEM/TILES/S02W063/S02W063_gdtm_void.tif exists,\n",
      "but some command line options were provided indicating a new dataset\n",
      "should be created.  Please delete existing dataset and run again.\n",
      "\n",
      "ERROR 1: Output dataset /media/ljp238/12TBWolf/BRCHIEVE/GDEM/TILES/S02W063/S02W063_gdsm_void.tif exists,\n",
      "but some command line options were provided indicating a new dataset\n",
      "should be created.  Please delete existing dataset and run again.\n",
      "\n",
      "ERROR 1: Output dataset /media/ljp238/12TBWolf/BRCHIEVE/GDEM/TILES/S02W063/S02W063_egm08.tif exists,\n",
      "but some command line options were provided indicating a new dataset\n",
      "should be created.  Please delete existing dataset and run again.\n",
      "\n",
      "ERROR 1: Output dataset /media/ljp238/12TBWolf/BRCHIEVE/GDEM/TILES/S02W064/S02W064_gdtm_void.tif exists,\n",
      "but some command line options were provided indicating a new dataset\n",
      "should be created.  Please delete existing dataset and run again.\n",
      "\n"
     ]
    },
    {
     "name": "stdout",
     "output_type": "stream",
     "text": [
      "Source NoData Value: -9999.0\n",
      "Destination NoData Value: -9999.0\n",
      "2025-05-01 14:46:49,707 - INFO - regriding GEOID  @S02W064...\n",
      "Source NoData Value: -32767.0\n",
      "Destination NoData Value: -9999.0\n",
      "2025-05-01 14:46:49,776 - INFO - tFilling GDSM @S02W064...\n",
      "already created /media/ljp238/12TBWolf/BRCHIEVE/GDEM/TILES/S02W064/S02W064_gdtm_riofill0.tif\n",
      "2025-05-01 14:46:49,777 - INFO - tFilling GDSM @S02W064...\n",
      "already created /media/ljp238/12TBWolf/BRCHIEVE/GDEM/TILES/S02W064/S02W064_gdsm_riofill0.tif\n",
      "2025-05-01 14:46:49,779 - INFO - Void filling time: 0.07 min\n"
     ]
    },
    {
     "name": "stderr",
     "output_type": "stream",
     "text": [
      "ERROR 1: Output dataset /media/ljp238/12TBWolf/BRCHIEVE/GDEM/TILES/S02W064/S02W064_gdsm_void.tif exists,\n",
      "but some command line options were provided indicating a new dataset\n",
      "should be created.  Please delete existing dataset and run again.\n",
      "\n",
      "ERROR 1: Output dataset /media/ljp238/12TBWolf/BRCHIEVE/GDEM/TILES/S02W064/S02W064_egm08.tif exists,\n",
      "but some command line options were provided indicating a new dataset\n",
      "should be created.  Please delete existing dataset and run again.\n",
      "\n"
     ]
    }
   ],
   "source": [
    "si = 0 \n",
    "for fi in roivarfiles:\n",
    "    tilename = fi.split('/')[-2]\n",
    "    tile_dir = join(outdir, 'TILES', tilename)\n",
    "    makedirs(tile_dir, exist_ok=True)\n",
    "    logging.info(f\"Processing tile: {tilename}\")\n",
    "    _, _, _, xmin, xmax, ymin, ymax, _, _ = get_raster_info(fi)\n",
    "    \n",
    "    gdsmv_tile = f\"{tile_dir}/{tilename}_gdsm_void.tif\"\n",
    "    gdtmv_tile = f\"{tile_dir}/{tilename}_gdtm_void.tif\"\n",
    "    geoid_tile = f\"{tile_dir}/{tilename}_egm08.tif\"\n",
    "    logging.info(f'regriding GDSM @{tilename}...')\n",
    "    gdal_regrid(gdtm_v_fn, gdtmv_tile, xmin, ymin, xmax, ymax, xres, yres, mode, t_epsg, overwrite=False)\n",
    "    logging.info(f'regriding GDTM  @{tilename}...')\n",
    "    gdal_regrid(gdsm_v_fn, gdsmv_tile, xmin, ymin, xmax, ymax, xres, yres, mode, t_epsg, overwrite=False)\n",
    "\n",
    "    logging.info(f'regriding GEOID  @{tilename}...')\n",
    "    gdal_regrid(egm08_fn, geoid_tile, xmin, ymin, xmax, ymax, xres, yres, mode, t_epsg, overwrite=False)\n",
    "\n",
    "    gdsmf_tile = gdsmv_tile.replace('void.tif', f'riofill{si}.tif')\n",
    "    gdtmf_tile = gdtmv_tile.replace('void.tif', f'riofill{si}.tif')\n",
    "\n",
    "    logging.info(f'tFilling GDSM @{tilename}...')\n",
    "    riofill(gdtmv_tile, gdtmf_tile, si=si)\n",
    "    logging.info(f'tFilling GDSM @{tilename}...')\n",
    "    riofill(gdsmv_tile, gdsmf_tile, si=si)\n",
    "    \n",
    "    gdsmf_tiles.append(gdsmf_tile)\n",
    "    gdtmf_tiles.append(gdtmf_tile)\n",
    "    geoid_tiles.append(geoid_tile)\n",
    "\n",
    "tb = time.perf_counter()\n",
    "logging.info(f'Void filling time: {(tb - ta)/60:.2f} min')"
   ]
  },
  {
   "cell_type": "code",
   "execution_count": 4,
   "id": "aed0806e",
   "metadata": {},
   "outputs": [],
   "source": [
    "from ugeoid import ellipsoid2orthometric\n",
    "from ufuncs import calculate_dod,min_rasters"
   ]
  },
  {
   "cell_type": "code",
   "execution_count": null,
   "id": "52a99f6f",
   "metadata": {},
   "outputs": [
    {
     "name": "stdout",
     "output_type": "stream",
     "text": [
      "0\n",
      "2025-05-01 14:46:53,196 - INFO - Style Transfer Started using GWR...\n",
      "2025-05-01 14:46:53,197 - INFO - GWR downscaling (gdtm): S02W064\n"
     ]
    },
    {
     "name": "stdout",
     "output_type": "stream",
     "text": [
      "____________________________\n",
      "\n",
      "   #####   ##   #####    ##\n",
      "  ###     ###  ##       ###\n",
      "   ###   # ## ##  #### # ##\n",
      "    ### ##### ##    # #####\n",
      " ##### #   ##  ##### #   ##\n",
      "____________________________\n",
      "\n",
      "SAGA Version: 8.2.2\n",
      "\n",
      "____________________________\n",
      "library path: /usr/lib/x86_64-linux-gnu/saga/\n",
      "library name: libstatistics_regression\n",
      "library     : statistics_regression\n",
      "tool        : GWR for Grid Downscaling\n",
      "identifier  : 14\n",
      "author      : O.Conrad (c) 2013\n",
      "processors  : 56 [56]\n",
      "____________________________\n",
      "\n",
      "loading: N09E105_edem_egm\n",
      "\n",
      "  1%"
     ]
    }
   ],
   "source": [
    "for i in range(len(gdsmf_tiles)):\n",
    "    print(i)\n",
    "\n",
    "    gdsm_tile = gdsmf_tiles[i]\n",
    "    gdsm_tile_egm = gdsm_tile.replace('.tif', '_egm.tif')\n",
    "\n",
    "    gdtm_tile = gdtmf_tiles[i]\n",
    "    gdtm_tile_egm = gdtm_tile.replace('.tif', '_egm.tif')\n",
    "\n",
    "    geoid_tile = geoid_tiles[i]\n",
    "    dod_tile = gdsm_tile.replace('gdsm_riofill0', 'dod')\n",
    "    dod_tile_egm = gdsm_tile_egm.replace('gdsm_riofill0', 'dod')\n",
    "\n",
    "    ellipsoid2orthometric(gdsm_tile,geoid_tile,gdsm_tile_egm)\n",
    "    ellipsoid2orthometric(gdtm_tile,geoid_tile,gdtm_tile_egm)\n",
    "\n",
    "    _ = calculate_dod(gdtm_tile_egm, gdsm_tile_egm, dod_tile_egm)\n",
    "    _ = calculate_dod(gdtm_tile, gdsm_tile, dod_tile)\n",
    "\n",
    "    varname = \"edem_egm\"#tdem_dem\n",
    "    varpath = f\"{indir}/*/*{varname}.tif\"\n",
    "    varfiles = glob(varpath)\n",
    "    roivarfiles = [fi for fi in varfiles for t in roitilenames if t in fi]\n",
    "    roivarfiles\n",
    "\n",
    "    sfix = \"GWR\"\n",
    "    logging.info(f'Style Transfer Started using {sfix}...')\n",
    "    xpath = roivarfiles[i] #gdtm_tile_egm,gdtm_tile\n",
    "    ypath = gdtm_tile_egm\n",
    "    out_path = ypath.replace('.tif', f'_{sfix}.tif')\n",
    "    if not isfile(out_path):\n",
    "        logging.info(f\"GWR downscaling (gdtm): {tilename}\")\n",
    "        gwrdownxcale(xpath, ypath, out_path, oaux=False, epsg_code=4979, clean=False)\n",
    "    tc = time.perf_counter()\n",
    "    logging.info(f'GWR downscaling (gdtm) time: {(tc - tb)/60:.2f} min')\n",
    "\n",
    "    xpath = roivarfiles[i] #gdtm_tile_egm,gdtm_tile\n",
    "    out_path = ypath.replace('.tif', f'_{sfix}.tif')\n",
    "    ps_tile = out_path.replace(f'_{sfix}.tif', '_fmin.tif')\n",
    "    min_rasters(xpath, out_path, ps_tile)\n",
    "\n"
   ]
  },
  {
   "cell_type": "code",
   "execution_count": null,
   "id": "cc0bb729",
   "metadata": {},
   "outputs": [],
   "source": []
  }
 ],
 "metadata": {
  "kernelspec": {
   "display_name": "agluon",
   "language": "python",
   "name": "python3"
  },
  "language_info": {
   "codemirror_mode": {
    "name": "ipython",
    "version": 3
   },
   "file_extension": ".py",
   "mimetype": "text/x-python",
   "name": "python",
   "nbconvert_exporter": "python",
   "pygments_lexer": "ipython3",
   "version": "3.11.11"
  }
 },
 "nbformat": 4,
 "nbformat_minor": 5
}
