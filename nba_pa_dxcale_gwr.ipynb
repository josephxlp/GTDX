{
 "cells": [
  {
   "cell_type": "markdown",
   "id": "18ff4be8",
   "metadata": {},
   "source": [
    "[Follow the steps outline in documentation](https://docs.google.com/document/d/1lq8ZlseA99eZe0Y3AeNxqE0ix5TNQf5WARBZ9YSHLAM/edit?tab=t.0)\n",
    "\n",
    "- one at a time : #N13E103 #'N10E105','S01W063'"
   ]
  },
  {
   "cell_type": "code",
   "execution_count": 1,
   "id": "925a00cd",
   "metadata": {},
   "outputs": [],
   "source": [
    "import logging\n",
    "from utilenames import tilenames_mkd, tilenames_tls, tilenames_rgn\n",
    "from os.path import join, isfile\n",
    "from os import makedirs\n",
    "from glob import glob\n",
    "from uinterp import riofill\n",
    "from ufuncs import get_raster_info, gdal_regrid\n",
    "from uvars import gdsm_v_fn, gdtm_v_fn, egm08_fn, outdir, indir\n",
    "import sys\n",
    "from uvars import topoxcale_dir\n",
    "sys.path.append(topoxcale_dir)\n",
    "from topoxcale.mlxcale import mldownxcale\n",
    "from topoxcale.sagaxcale import gwrdownxcale\n",
    "import time"
   ]
  },
  {
   "cell_type": "code",
   "execution_count": 2,
   "id": "14b382d8",
   "metadata": {},
   "outputs": [
    {
     "name": "stdout",
     "output_type": "stream",
     "text": [
      "2025-04-29 16:22:04,596 - INFO - Loading main variables\n",
      "2025-04-29 16:22:04,605 - INFO - setting baseline dem as tdem_dem\n"
     ]
    }
   ],
   "source": [
    "# Setup logging\n",
    "logging.basicConfig(\n",
    "    level=logging.INFO,\n",
    "    format=\"%(asctime)s - %(levelname)s - %(message)s\",\n",
    "    handlers=[\n",
    "        logging.FileHandler(\"processing.log\"), # add date to this \n",
    "        logging.StreamHandler(sys.stdout)\n",
    "    ]\n",
    ")\n",
    "\n",
    "ti = time.perf_counter()\n",
    "#tilenames #N13E103 #'N10E105','S01W063'\n",
    "logging.info('Loading main variables')\n",
    "tilenames = ['N13E103']#tilenames_mkd + tilenames_tls + tilenames_rgn\n",
    "varname = \"tdem_dem\" # use EDEM #deps: filling methos for my DEMs\n",
    "roitilenames = tilenames\n",
    "makedirs(outdir, exist_ok=True)\n",
    "xres, yres = 0.01057350068885258912, -0.01057350068885258912\n",
    "t_epsg = 'EPSG:4326'\n",
    "mode = \"num\"\n",
    "\n",
    "varpath = f\"{indir}/*/*{varname}.tif\"\n",
    "varfiles = glob(varpath)\n",
    "roivarfiles = [fi for fi in varfiles for t in roitilenames if t in fi]\n",
    "\n",
    "ta = time.perf_counter()\n",
    "gdsmf_tiles = []\n",
    "gdtmf_tiles = []\n",
    "geoid_tiles = []\n",
    "logging.info(f'setting baseline dem as {varname}')"
   ]
  },
  {
   "cell_type": "code",
   "execution_count": 3,
   "id": "52c950cb",
   "metadata": {},
   "outputs": [
    {
     "name": "stdout",
     "output_type": "stream",
     "text": [
      "2025-04-29 16:22:04,622 - INFO - Processing tile: N13E103\n",
      "2025-04-29 16:22:04,636 - INFO - regriding GDSM @N13E103...\n",
      "Source NoData Value: -9999.0\n",
      "Destination NoData Value: -9999.0\n",
      "Creating output file that is 95P x 96L.\n",
      "Processing /media/ljp238/12TBWolf/ARCHIEVE/GEDI/GRID/comprexn/GEDI_L3_be/GEDI03_elev_lowestmode_mean_2019108_2022019_002_03_EPSG4326.tif [1/1] : 0...10...20...30...40...50...60...70...80...90...100 - done.\n",
      "2025-04-29 16:22:04,730 - INFO - regriding GDTM  @N13E103...\n",
      "Source NoData Value: -9999.0\n",
      "Destination NoData Value: -9999.0\n",
      "Creating output file that is 95P x 96L.\n",
      "Processing /media/ljp238/12TBWolf/ARCHIEVE/GEDI/GRID/comprexn/GEDI_L3_vh/GEDI03_rh100_mean_2019108_2022019_002_03_EPSG4326.tif [1/1] : 0...10...20...30...40...50...60...70...80...90...100 - done.\n",
      "2025-04-29 16:22:04,817 - INFO - regriding GEOID  @N13E103...\n",
      "Source NoData Value: -32767.0\n",
      "Destination NoData Value: -9999.0\n",
      "Creating output file that is 95P x 96L.\n",
      "Processing /media/ljp238/12TBWolf/ARCHIEVE/GEOID/GLOBAL/us_nga_egm2008_1.tif [1/1] : 0...10...20...30...40...50...60...70...80...90...100 - done.\n",
      "2025-04-29 16:22:04,915 - INFO - tFilling GDSM @N13E103...\n",
      "2025-04-29 16:22:04,931 - INFO - tFilling GDSM @N13E103...\n",
      "2025-04-29 16:22:04,946 - INFO - Void filling time: 0.01 min\n"
     ]
    }
   ],
   "source": [
    "si = 0 \n",
    "for fi in roivarfiles:\n",
    "    tilename = fi.split('/')[-2]\n",
    "    tile_dir = join(outdir, 'TILES', tilename)\n",
    "    makedirs(tile_dir, exist_ok=True)\n",
    "    logging.info(f\"Processing tile: {tilename}\")\n",
    "    _, _, _, xmin, xmax, ymin, ymax, _, _ = get_raster_info(fi)\n",
    "    \n",
    "    gdsmv_tile = f\"{tile_dir}/{tilename}_gdsm_void.tif\"\n",
    "    gdtmv_tile = f\"{tile_dir}/{tilename}_gdtm_void.tif\"\n",
    "    geoid_tile = f\"{tile_dir}/{tilename}_egm08.tif\"\n",
    "    logging.info(f'regriding GDSM @{tilename}...')\n",
    "    gdal_regrid(gdtm_v_fn, gdtmv_tile, xmin, ymin, xmax, ymax, xres, yres, mode, t_epsg, overwrite=False)\n",
    "    logging.info(f'regriding GDTM  @{tilename}...')\n",
    "    gdal_regrid(gdsm_v_fn, gdsmv_tile, xmin, ymin, xmax, ymax, xres, yres, mode, t_epsg, overwrite=False)\n",
    "\n",
    "    logging.info(f'regriding GEOID  @{tilename}...')\n",
    "    gdal_regrid(egm08_fn, geoid_tile, xmin, ymin, xmax, ymax, xres, yres, mode, t_epsg, overwrite=False)\n",
    "\n",
    "    gdsmf_tile = gdsmv_tile.replace('void.tif', f'riofill{si}.tif')\n",
    "    gdtmf_tile = gdtmv_tile.replace('void.tif', f'riofill{si}.tif')\n",
    "\n",
    "    logging.info(f'tFilling GDSM @{tilename}...')\n",
    "    riofill(gdtmv_tile, gdtmf_tile, si=si)\n",
    "    logging.info(f'tFilling GDSM @{tilename}...')\n",
    "    riofill(gdsmv_tile, gdsmf_tile, si=si)\n",
    "    \n",
    "    gdsmf_tiles.append(gdsmf_tile)\n",
    "    gdtmf_tiles.append(gdtmf_tile)\n",
    "    geoid_tiles.append(geoid_tile)\n",
    "\n",
    "tb = time.perf_counter()\n",
    "logging.info(f'Void filling time: {(tb - ta)/60:.2f} min')"
   ]
  },
  {
   "cell_type": "markdown",
   "id": "2d9c7011",
   "metadata": {},
   "source": [
    "transform geoid"
   ]
  },
  {
   "cell_type": "code",
   "execution_count": 4,
   "id": "44fd693b",
   "metadata": {},
   "outputs": [],
   "source": [
    "from ugeoid import ellipsoid2orthometric"
   ]
  },
  {
   "cell_type": "code",
   "execution_count": 5,
   "id": "caad945d",
   "metadata": {},
   "outputs": [],
   "source": [
    "# egm_files = glob(f\"{indir}/*/*egm08.tif\")\n",
    "# egm_tile = [fi for fi in egm_files for t in roitilenames if t in fi][0]\n",
    "# egm_tile"
   ]
  },
  {
   "cell_type": "code",
   "execution_count": null,
   "id": "27c5c4ac",
   "metadata": {},
   "outputs": [],
   "source": [
    "gdsm_tile = gdsmf_tiles[0]\n",
    "gdsm_tile_egm = gdsm_tile.replace('.tif', '_egm.tif')\n",
    "\n",
    "gdtm_tile = gdtmf_tiles[0]\n",
    "gdtm_tile_egm = gdtm_tile.replace('.tif', '_egm.tif')\n",
    "\n",
    "geoid_tile = geoid_tiles[0]\n",
    "\n",
    "ellipsoid2orthometric(gdsm_tile,geoid_tile,gdsm_tile_egm)\n",
    "ellipsoid2orthometric(gdtm_tile,geoid_tile,gdtm_tile_egm)"
   ]
  },
  {
   "cell_type": "markdown",
   "id": "f58caf4f",
   "metadata": {},
   "source": [
    "extract dod"
   ]
  },
  {
   "cell_type": "code",
   "execution_count": 12,
   "id": "7be57abe",
   "metadata": {},
   "outputs": [],
   "source": [
    "import numpy as np\n",
    "import rasterio\n",
    "\n",
    "def calculate_dod(dem1_path, dem2_path, output_path=None):\n",
    "    \"\"\"\n",
    "    Calculate the Difference of DEMs (DoD) by subtracting dem1 from dem2.\n",
    "\n",
    "    Parameters:\n",
    "    - dem1_path (str): Path to the first DEM (baseline or older).\n",
    "    - dem2_path (str): Path to the second DEM (newer or comparison).\n",
    "    - output_path (str, optional): Path to save the output DoD raster. If None, doesn't save.\n",
    "\n",
    "    Returns:\n",
    "    - dod_array (np.ndarray): The difference array (dem2 - dem1).\n",
    "    \"\"\"\n",
    "    with rasterio.open(dem1_path) as src1, rasterio.open(dem2_path) as src2:\n",
    "        if src1.shape != src2.shape or src1.transform != src2.transform or src1.crs != src2.crs:\n",
    "            raise ValueError(\"Input DEMs must have the same shape, transform, and CRS.\")\n",
    "\n",
    "        dem1 = src1.read(1).astype(np.float32)\n",
    "        dem2 = src2.read(1).astype(np.float32)\n",
    "\n",
    "        # Mask nodata values\n",
    "        mask = (dem1 == src1.nodata) | (dem2 == src2.nodata)\n",
    "        dod = dem2 - dem1\n",
    "        dod[mask] = np.nan\n",
    "\n",
    "        if output_path:\n",
    "            profile = src1.profile\n",
    "            profile.update(dtype='float32', nodata=np.nan)\n",
    "            with rasterio.open(output_path, 'w', **profile) as dst:\n",
    "                dst.write(dod, 1)\n",
    "\n",
    "    return dod\n"
   ]
  },
  {
   "cell_type": "code",
   "execution_count": 15,
   "id": "a2283f3c",
   "metadata": {},
   "outputs": [],
   "source": [
    "gdsm_tile = gdsmf_tiles[0]\n",
    "gdsm_tile_egm = gdsm_tile.replace('.tif', '_egm.tif')\n",
    "gdtm_tile = gdtmf_tiles[0]\n",
    "gdtm_tile_egm = gdtm_tile.replace('.tif', '_egm.tif')\n",
    "dod_tile = gdsm_tile.replace('gdsm_riofill0', 'dod')\n",
    "dod_tile_egm = gdsm_tile_egm.replace('gdsm_riofill0', 'dod')"
   ]
  },
  {
   "cell_type": "code",
   "execution_count": 16,
   "id": "d93188d4",
   "metadata": {},
   "outputs": [
    {
     "data": {
      "text/plain": [
       "('/media/ljp238/12TBWolf/BRCHIEVE/GDEM/TILES/N13E103/N13E103_dod.tif',\n",
       " '/media/ljp238/12TBWolf/BRCHIEVE/GDEM/TILES/N13E103/N13E103_dod_egm.tif')"
      ]
     },
     "execution_count": 16,
     "metadata": {},
     "output_type": "execute_result"
    }
   ],
   "source": [
    "\n",
    "dod_tile, dod_tile_egm"
   ]
  },
  {
   "cell_type": "code",
   "execution_count": 19,
   "id": "cc06e15c",
   "metadata": {},
   "outputs": [],
   "source": [
    "_ = calculate_dod(gdtm_tile_egm, gdsm_tile_egm, dod_tile_egm)\n",
    "_ = calculate_dod(gdtm_tile, gdsm_tile, dod_tile)"
   ]
  },
  {
   "cell_type": "code",
   "execution_count": null,
   "id": "1aedca03",
   "metadata": {},
   "outputs": [],
   "source": [
    "# plot dsm,dtm, dod, and dsm "
   ]
  },
  {
   "cell_type": "markdown",
   "id": "f078cefb",
   "metadata": {},
   "source": [
    "downxcale_gwr with edem"
   ]
  },
  {
   "cell_type": "markdown",
   "id": "cee2216c",
   "metadata": {},
   "source": [
    "we have done this with 1K regrid, try doing with 12 regrid"
   ]
  },
  {
   "cell_type": "code",
   "execution_count": null,
   "id": "3aaecf7e",
   "metadata": {},
   "outputs": [],
   "source": [
    "varpath = f\"{indir}/*/*{varname}.tif\"\n",
    "varfiles = glob(varpath)\n",
    "roivarfiles = [fi for fi in varfiles for t in roitilenames if t in fi]\n"
   ]
  },
  {
   "cell_type": "code",
   "execution_count": 10,
   "id": "e08fe175",
   "metadata": {},
   "outputs": [
    {
     "data": {
      "text/plain": [
       "(['/media/ljp238/12TBWolf/BRCHIEVE/GDEM/TILES/N13E103/N13E103_gdtm_riofill.tif'],\n",
       " ['/media/ljp238/12TBWolf/BRCHIEVE/GDEM/TILES/N13E103/N13E103_gdsm_riofill.tif'])"
      ]
     },
     "execution_count": 10,
     "metadata": {},
     "output_type": "execute_result"
    }
   ],
   "source": [
    "gdtmf_tiles,gdsmf_tiles"
   ]
  },
  {
   "cell_type": "code",
   "execution_count": 26,
   "id": "03820a1e",
   "metadata": {},
   "outputs": [],
   "source": [
    "# instead of min between gdem and tdem, take the magniutde difference off from tdx where gdem higher than tdemx"
   ]
  },
  {
   "cell_type": "code",
   "execution_count": 25,
   "id": "2489def5",
   "metadata": {},
   "outputs": [],
   "source": [
    "# dtm is doing a good job mostly, so might just used it and do postprocessing\n",
    "# dod and dsm are too high in comparison to edem :: drop?"
   ]
  },
  {
   "cell_type": "code",
   "execution_count": 30,
   "id": "d1460054",
   "metadata": {},
   "outputs": [
    {
     "data": {
      "text/plain": [
       "['/media/ljp238/12TBWolf/BRCHIEVE/TILES12/N13E103/N13E103_edem_egm.tif']"
      ]
     },
     "execution_count": 30,
     "metadata": {},
     "output_type": "execute_result"
    }
   ],
   "source": [
    "#N13E103_edem_egm.tif\n",
    "varname = \"edem_egm\"#tdem_dem\n",
    "varpath = f\"{indir}/*/*{varname}.tif\"\n",
    "varfiles = glob(varpath)\n",
    "roivarfiles = [fi for fi in varfiles for t in roitilenames if t in fi]\n",
    "roivarfiles"
   ]
  },
  {
   "cell_type": "code",
   "execution_count": 38,
   "id": "6b89ab83",
   "metadata": {},
   "outputs": [
    {
     "name": "stdout",
     "output_type": "stream",
     "text": [
      "2025-04-29 18:49:57,576 - INFO - Style Transfer Started using GWR...\n",
      "2025-04-29 18:49:57,580 - INFO - GWR downscaling (gdtm): N13E103\n",
      "____________________________\n",
      "\n",
      "   #####   ##   #####    ##\n",
      "  ###     ###  ##       ###\n",
      "   ###   # ## ##  #### # ##\n",
      "    ### ##### ##    # #####\n",
      " ##### #   ##  ##### #   ##\n",
      "____________________________\n",
      "\n",
      "SAGA Version: 8.2.2\n",
      "\n",
      "____________________________\n",
      "library path: /usr/lib/x86_64-linux-gnu/saga/\n",
      "library name: libstatistics_regression\n",
      "library     : statistics_regression\n",
      "tool        : GWR for Grid Downscaling\n",
      "identifier  : 14\n",
      "author      : O.Conrad (c) 2013\n",
      "processors  : 56 [56]\n",
      "____________________________\n",
      "\n",
      "loading: N13E103_edem_egm\n",
      "\n",
      "100%\n",
      "loading: N13E103_gdtm_riofill0_egm\n",
      "\n",
      " 99%\n",
      "[GWR for Grid Downscaling] Execution started...\n",
      "\n",
      "__________\n",
      "[GWR for Grid Downscaling] Parameters:\n",
      "\n",
      "Grid System: 0.000111; 9001x 9001y; 103x 13y\n",
      "Predictors: 1 object (N13E103_edem_egm)\n",
      "Regression: Regression\n",
      "Regression with Residual Correction: <not set>\n",
      "Dependent Variable: N13E103_gdtm_riofill0_egm\n",
      "Coefficient of Determination: Coefficient of Determination\n",
      "Residuals: Residuals\n",
      "Regression Parameters: No objects\n",
      "Logistic Regression: false\n",
      "Output of Model Parameters: true\n",
      "Search Range: local\n",
      "Search Distance [Cells]: 10\n",
      "Weighting Function: gaussian\n",
      "Bandwidth: 4\n",
      "\n",
      "upscaling of predictors\n",
      "\n",
      " 99%\n",
      "model creation\n",
      "\n",
      " 99%downscaling\n",
      "\n",
      "101%\n",
      "__________\n",
      "total execution time: 43000 milliseconds (43s)\n",
      "\n",
      "[GWR for Grid Downscaling] Execution succeeded (43s)\n",
      "\n",
      "Saving grid: /media/ljp238/12TBWolf/BRCHIEVE/GDEM/TILES/N13E103/N13E103_gdtm_riofill0_egm_GWR.tif...\n",
      "Export GeoTIFF\n",
      "\n",
      "__________\n",
      "[Export GeoTIFF] Parameters:\n",
      "\n",
      "Grid System: 0.000111; 9001x 9001y; 103x 13y\n",
      "Grid(s): 1 object (N13E103_gdtm_riofill0_egm_GWR)\n",
      "File: /media/ljp238/12TBWolf/BRCHIEVE/GDEM/TILES/N13E103/N13E103_gdtm_riofill0_egm_GWR.tif\n",
      "Creation Options: \n",
      "\n",
      "Band 1\n",
      "\n",
      "100%\n",
      "100%\n",
      "\n",
      "[Export GeoTIFF] execution time: 07s\n",
      "okay\n",
      "! The file \"/media/ljp238/12TBWolf/BRCHIEVE/GDEM/TILES/N13E103/N13E103_gdtm_riofill0_egm_GWR.tif\" already exists.\n",
      "GWR Grid Downscaling completed.\n",
      "2025-04-29 18:50:53,714 - INFO - GWR downscaling (gdtm) time: 148.81 min\n"
     ]
    },
    {
     "name": "stderr",
     "output_type": "stream",
     "text": [
      "Segmentation fault (core dumped)\n"
     ]
    }
   ],
   "source": [
    "\n",
    "sfix = \"GWR\"\n",
    "logging.info(f'Style Transfer Started using {sfix}...')\n",
    "xpath = roivarfiles[0] #gdtm_tile_egm,gdtm_tile\n",
    "ypath = gdtm_tile_egm\n",
    "out_path = ypath.replace('.tif', f'_{sfix}.tif')\n",
    "if not isfile(out_path):\n",
    "    logging.info(f\"GWR downscaling (gdtm): {tilename}\")\n",
    "    gwrdownxcale(xpath, ypath, out_path, oaux=False, epsg_code=4979, clean=False)\n",
    "tc = time.perf_counter()\n",
    "logging.info(f'GWR downscaling (gdtm) time: {(tc - tb)/60:.2f} min')"
   ]
  },
  {
   "cell_type": "code",
   "execution_count": 39,
   "id": "1b9aa4fd",
   "metadata": {},
   "outputs": [],
   "source": [
    "## do the postprocessing \n",
    "## run the low filter 3x3 and remove -0.5 as factor for veg,buling  and other lowland 2-3x of that"
   ]
  },
  {
   "cell_type": "code",
   "execution_count": 40,
   "id": "3d884f67",
   "metadata": {},
   "outputs": [],
   "source": [
    "import rasterio\n",
    "import numpy as np\n",
    "\n",
    "def min_rasters(raster_a_path, raster_b_path, output_path):\n",
    "    \"\"\"\n",
    "    Create a new raster where each pixel is the minimum of the corresponding pixels in two input rasters.\n",
    "    Nodata values are treated as np.nan.\n",
    "    \n",
    "    Parameters:\n",
    "        raster_a_path (str): File path to the first input raster.\n",
    "        raster_b_path (str): File path to the second input raster.\n",
    "        output_path (str): File path to save the output raster.\n",
    "    \"\"\"\n",
    "    # Open raster a\n",
    "    with rasterio.open(raster_a_path) as src_a:\n",
    "        a = src_a.read(1).astype(float)\n",
    "        a[a == src_a.nodata] = np.nan\n",
    "        profile = src_a.profile.copy()\n",
    "\n",
    "    # Open raster b\n",
    "    with rasterio.open(raster_b_path) as src_b:\n",
    "        b = src_b.read(1).astype(float)\n",
    "        b[b == src_b.nodata] = np.nan\n",
    "\n",
    "    # Compute pixel-wise minimum, treating np.nan properly\n",
    "    c = np.fmin(a, b)\n",
    "\n",
    "    # Set a float nodata value if needed (optional)\n",
    "    nodata_value = -9999.0\n",
    "    c[np.isnan(c)] = nodata_value\n",
    "    profile.update(dtype='float32', nodata=nodata_value)\n",
    "\n",
    "    # Write output raster\n",
    "    with rasterio.open(output_path, 'w', **profile) as dst:\n",
    "        dst.write(c.astype('float32'), 1)\n"
   ]
  },
  {
   "cell_type": "code",
   "execution_count": 47,
   "id": "7abe024b",
   "metadata": {},
   "outputs": [],
   "source": [
    "xpath = roivarfiles[0] #gdtm_tile_egm,gdtm_tile\n",
    "out_path = ypath.replace('.tif', f'_{sfix}.tif')\n",
    "ps_tile = out_path.replace(f'_{sfix}.tif', '_fmin.tif')"
   ]
  },
  {
   "cell_type": "code",
   "execution_count": 48,
   "id": "363edff6",
   "metadata": {},
   "outputs": [],
   "source": [
    "min_rasters(xpath, out_path, ps_tile)\n"
   ]
  },
  {
   "cell_type": "markdown",
   "id": "079e5948",
   "metadata": {},
   "source": [
    "A 3x3 low-pass filter (also known as a mean filter or smoothing filter) reduces local variation in a raster by averaging the values in a 3x3 window (i.e., each pixel and its 8 neighbors).\n",
    "\n",
    "What it does:\n",
    "Blurs the image or surface: Smooths out small-scale variations (like noise or roughness).\n",
    "\n",
    "Preserves general structure: Large features and gradual changes are retained, but sharp edges and fine details are softened.\n",
    "\n",
    "Fills small gaps (if surrounded by valid values) when used with np.nan handling.\n",
    "\n",
    "Mechanism:\n",
    "For each pixel, the filter computes the average of the 3x3 neighborhood (excluding np.nan if present). The center pixel is replaced by this average."
   ]
  },
  {
   "cell_type": "code",
   "execution_count": 49,
   "id": "b1bec728",
   "metadata": {},
   "outputs": [],
   "source": [
    "import rasterio\n",
    "import numpy as np\n",
    "from scipy.ndimage import generic_filter\n",
    "\n",
    "def apply_3x3_lowpass_filter(input_raster_path, output_raster_path):\n",
    "    \"\"\"\n",
    "    Applies a 3x3 low-pass (mean) filter to the first band of a raster.\n",
    "    Nodata values are treated as np.nan and excluded from the mean calculation.\n",
    "\n",
    "    Parameters:\n",
    "        input_raster_path (str): Path to the input raster.\n",
    "        output_raster_path (str): Path to save the filtered output raster.\n",
    "    \"\"\"\n",
    "    # Read raster\n",
    "    with rasterio.open(input_raster_path) as src:\n",
    "        band = src.read(1).astype(float)\n",
    "        profile = src.profile.copy()\n",
    "        nodata = src.nodata\n",
    "\n",
    "    # Convert nodata to np.nan\n",
    "    if nodata is not None:\n",
    "        band[band == nodata] = np.nan\n",
    "\n",
    "    # Define the filter function that ignores nan\n",
    "    def nanmean_filter(values):\n",
    "        return np.nanmean(values)\n",
    "\n",
    "    # Apply 3x3 mean filter\n",
    "    filtered = generic_filter(band, nanmean_filter, size=3, mode='constant', cval=np.nan)\n",
    "\n",
    "    # Replace nan with a valid nodata value\n",
    "    out_nodata = -9999.0\n",
    "    filtered[np.isnan(filtered)] = out_nodata\n",
    "\n",
    "    # Update profile\n",
    "    profile.update(dtype='float32', nodata=out_nodata)\n",
    "\n",
    "    # Write to output raster\n",
    "    with rasterio.open(output_raster_path, 'w', **profile) as dst:\n",
    "        dst.write(filtered.astype('float32'), 1)\n"
   ]
  },
  {
   "cell_type": "code",
   "execution_count": null,
   "id": "ecf883fa",
   "metadata": {},
   "outputs": [],
   "source": [
    "\n",
    "input_raster_path = ps_tile \n",
    "output_raster_path = input_raster_path.replace('fmin.tif', '_lpass.tif')\n",
    "#apply_3x3_lowpass_filter(input_raster_path, output_raster_path) 38 mins"
   ]
  },
  {
   "cell_type": "code",
   "execution_count": null,
   "id": "23397837",
   "metadata": {},
   "outputs": [],
   "source": []
  }
 ],
 "metadata": {
  "kernelspec": {
   "display_name": "agluon",
   "language": "python",
   "name": "python3"
  },
  "language_info": {
   "codemirror_mode": {
    "name": "ipython",
    "version": 3
   },
   "file_extension": ".py",
   "mimetype": "text/x-python",
   "name": "python",
   "nbconvert_exporter": "python",
   "pygments_lexer": "ipython3",
   "version": "3.11.11"
  }
 },
 "nbformat": 4,
 "nbformat_minor": 5
}
