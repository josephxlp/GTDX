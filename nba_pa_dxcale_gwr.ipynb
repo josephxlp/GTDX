{
 "cells": [
  {
   "cell_type": "markdown",
   "id": "18ff4be8",
   "metadata": {},
   "source": [
    "[Follow the steps outline in documentation](https://docs.google.com/document/d/1lq8ZlseA99eZe0Y3AeNxqE0ix5TNQf5WARBZ9YSHLAM/edit?tab=t.0)\n",
    "\n",
    "- one at a time : #N13E103 #'N10E105','S01W063'"
   ]
  },
  {
   "cell_type": "code",
   "execution_count": 1,
   "id": "925a00cd",
   "metadata": {},
   "outputs": [],
   "source": [
    "import logging\n",
    "from utilenames import tilenames_mkd, tilenames_tls, tilenames_rgn\n",
    "from os.path import join, isfile\n",
    "from os import makedirs\n",
    "from glob import glob\n",
    "from uinterp import riofill\n",
    "from ufuncs import get_raster_info, gdal_regrid\n",
    "from uvars import gdsm_v_fn, gdtm_v_fn, egm08_fn, outdir, indir\n",
    "import sys\n",
    "from uvars import topoxcale_dir\n",
    "sys.path.append(topoxcale_dir)\n",
    "from topoxcale.mlxcale import mldownxcale\n",
    "from topoxcale.sagaxcale import gwrdownxcale\n",
    "import time"
   ]
  },
  {
   "cell_type": "code",
   "execution_count": 2,
   "id": "14b382d8",
   "metadata": {},
   "outputs": [
    {
     "name": "stdout",
     "output_type": "stream",
     "text": [
      "2025-04-29 16:22:04,596 - INFO - Loading main variables\n",
      "2025-04-29 16:22:04,605 - INFO - setting baseline dem as tdem_dem\n"
     ]
    }
   ],
   "source": [
    "# Setup logging\n",
    "logging.basicConfig(\n",
    "    level=logging.INFO,\n",
    "    format=\"%(asctime)s - %(levelname)s - %(message)s\",\n",
    "    handlers=[\n",
    "        logging.FileHandler(\"processing.log\"), # add date to this \n",
    "        logging.StreamHandler(sys.stdout)\n",
    "    ]\n",
    ")\n",
    "\n",
    "ti = time.perf_counter()\n",
    "#tilenames #N13E103 #'N10E105','S01W063'\n",
    "logging.info('Loading main variables')\n",
    "tilenames = ['N13E103']#tilenames_mkd + tilenames_tls + tilenames_rgn\n",
    "varname = \"tdem_dem\" # use EDEM #deps: filling methos for my DEMs\n",
    "roitilenames = tilenames\n",
    "makedirs(outdir, exist_ok=True)\n",
    "xres, yres = 0.01057350068885258912, -0.01057350068885258912\n",
    "t_epsg = 'EPSG:4326'\n",
    "mode = \"num\"\n",
    "\n",
    "varpath = f\"{indir}/*/*{varname}.tif\"\n",
    "varfiles = glob(varpath)\n",
    "roivarfiles = [fi for fi in varfiles for t in roitilenames if t in fi]\n",
    "\n",
    "ta = time.perf_counter()\n",
    "gdsmf_tiles = []\n",
    "gdtmf_tiles = []\n",
    "geoid_tiles = []\n",
    "logging.info(f'setting baseline dem as {varname}')"
   ]
  },
  {
   "cell_type": "code",
   "execution_count": 3,
   "id": "52c950cb",
   "metadata": {},
   "outputs": [
    {
     "name": "stdout",
     "output_type": "stream",
     "text": [
      "2025-04-29 16:22:04,622 - INFO - Processing tile: N13E103\n",
      "2025-04-29 16:22:04,636 - INFO - regriding GDSM @N13E103...\n",
      "Source NoData Value: -9999.0\n",
      "Destination NoData Value: -9999.0\n",
      "Creating output file that is 95P x 96L.\n",
      "Processing /media/ljp238/12TBWolf/ARCHIEVE/GEDI/GRID/comprexn/GEDI_L3_be/GEDI03_elev_lowestmode_mean_2019108_2022019_002_03_EPSG4326.tif [1/1] : 0...10...20...30...40...50...60...70...80...90...100 - done.\n",
      "2025-04-29 16:22:04,730 - INFO - regriding GDTM  @N13E103...\n",
      "Source NoData Value: -9999.0\n",
      "Destination NoData Value: -9999.0\n",
      "Creating output file that is 95P x 96L.\n",
      "Processing /media/ljp238/12TBWolf/ARCHIEVE/GEDI/GRID/comprexn/GEDI_L3_vh/GEDI03_rh100_mean_2019108_2022019_002_03_EPSG4326.tif [1/1] : 0...10...20...30...40...50...60...70...80...90...100 - done.\n",
      "2025-04-29 16:22:04,817 - INFO - regriding GEOID  @N13E103...\n",
      "Source NoData Value: -32767.0\n",
      "Destination NoData Value: -9999.0\n",
      "Creating output file that is 95P x 96L.\n",
      "Processing /media/ljp238/12TBWolf/ARCHIEVE/GEOID/GLOBAL/us_nga_egm2008_1.tif [1/1] : 0...10...20...30...40...50...60...70...80...90...100 - done.\n",
      "2025-04-29 16:22:04,915 - INFO - tFilling GDSM @N13E103...\n",
      "2025-04-29 16:22:04,931 - INFO - tFilling GDSM @N13E103...\n",
      "2025-04-29 16:22:04,946 - INFO - Void filling time: 0.01 min\n"
     ]
    }
   ],
   "source": [
    "si = 0 \n",
    "for fi in roivarfiles:\n",
    "    tilename = fi.split('/')[-2]\n",
    "    tile_dir = join(outdir, 'TILES', tilename)\n",
    "    makedirs(tile_dir, exist_ok=True)\n",
    "    logging.info(f\"Processing tile: {tilename}\")\n",
    "    _, _, _, xmin, xmax, ymin, ymax, _, _ = get_raster_info(fi)\n",
    "    \n",
    "    gdsmv_tile = f\"{tile_dir}/{tilename}_gdsm_void.tif\"\n",
    "    gdtmv_tile = f\"{tile_dir}/{tilename}_gdtm_void.tif\"\n",
    "    geoid_tile = f\"{tile_dir}/{tilename}_egm08.tif\"\n",
    "    logging.info(f'regriding GDSM @{tilename}...')\n",
    "    gdal_regrid(gdtm_v_fn, gdtmv_tile, xmin, ymin, xmax, ymax, xres, yres, mode, t_epsg, overwrite=False)\n",
    "    logging.info(f'regriding GDTM  @{tilename}...')\n",
    "    gdal_regrid(gdsm_v_fn, gdsmv_tile, xmin, ymin, xmax, ymax, xres, yres, mode, t_epsg, overwrite=False)\n",
    "\n",
    "    logging.info(f'regriding GEOID  @{tilename}...')\n",
    "    gdal_regrid(egm08_fn, geoid_tile, xmin, ymin, xmax, ymax, xres, yres, mode, t_epsg, overwrite=False)\n",
    "\n",
    "    gdsmf_tile = gdsmv_tile.replace('void.tif', f'riofill{si}.tif')\n",
    "    gdtmf_tile = gdtmv_tile.replace('void.tif', f'riofill{si}.tif')\n",
    "\n",
    "    logging.info(f'tFilling GDSM @{tilename}...')\n",
    "    riofill(gdtmv_tile, gdtmf_tile, si=si)\n",
    "    logging.info(f'tFilling GDSM @{tilename}...')\n",
    "    riofill(gdsmv_tile, gdsmf_tile, si=si)\n",
    "    \n",
    "    gdsmf_tiles.append(gdsmf_tile)\n",
    "    gdtmf_tiles.append(gdtmf_tile)\n",
    "    geoid_tiles.append(geoid_tile)\n",
    "\n",
    "tb = time.perf_counter()\n",
    "logging.info(f'Void filling time: {(tb - ta)/60:.2f} min')"
   ]
  },
  {
   "cell_type": "markdown",
   "id": "2d9c7011",
   "metadata": {},
   "source": [
    "transform geoid"
   ]
  },
  {
   "cell_type": "code",
   "execution_count": 4,
   "id": "44fd693b",
   "metadata": {},
   "outputs": [],
   "source": [
    "from ugeoid import ellipsoid2orthometric"
   ]
  },
  {
   "cell_type": "code",
   "execution_count": 5,
   "id": "caad945d",
   "metadata": {},
   "outputs": [],
   "source": [
    "# egm_files = glob(f\"{indir}/*/*egm08.tif\")\n",
    "# egm_tile = [fi for fi in egm_files for t in roitilenames if t in fi][0]\n",
    "# egm_tile"
   ]
  },
  {
   "cell_type": "code",
   "execution_count": 11,
   "id": "27c5c4ac",
   "metadata": {},
   "outputs": [],
   "source": [
    "gdsm_tile = gdsmf_tiles[0]\n",
    "gdsm_tile_egm = gdsm_tile.replace('.tif', '_egm.tif')\n",
    "\n",
    "gdtm_tile = gdtmf_tiles[0]\n",
    "gdtm_tile_egm = gdtm_tile.replace('.tif', '_egm.tif')\n",
    "\n",
    "geoid_tile = geoid_tiles[0]\n",
    "\n",
    "ellipsoid2orthometric(gdsm_tile,geoid_tile,gdsm_tile_egm)\n",
    "ellipsoid2orthometric(gdtm_tile,geoid_tile,gdtm_tile_egm)"
   ]
  },
  {
   "cell_type": "markdown",
   "id": "f58caf4f",
   "metadata": {},
   "source": [
    "extract dod"
   ]
  },
  {
   "cell_type": "code",
   "execution_count": 12,
   "id": "7be57abe",
   "metadata": {},
   "outputs": [],
   "source": [
    "import numpy as np\n",
    "import rasterio\n",
    "\n",
    "def calculate_dod(dem1_path, dem2_path, output_path=None):\n",
    "    \"\"\"\n",
    "    Calculate the Difference of DEMs (DoD) by subtracting dem1 from dem2.\n",
    "\n",
    "    Parameters:\n",
    "    - dem1_path (str): Path to the first DEM (baseline or older).\n",
    "    - dem2_path (str): Path to the second DEM (newer or comparison).\n",
    "    - output_path (str, optional): Path to save the output DoD raster. If None, doesn't save.\n",
    "\n",
    "    Returns:\n",
    "    - dod_array (np.ndarray): The difference array (dem2 - dem1).\n",
    "    \"\"\"\n",
    "    with rasterio.open(dem1_path) as src1, rasterio.open(dem2_path) as src2:\n",
    "        if src1.shape != src2.shape or src1.transform != src2.transform or src1.crs != src2.crs:\n",
    "            raise ValueError(\"Input DEMs must have the same shape, transform, and CRS.\")\n",
    "\n",
    "        dem1 = src1.read(1).astype(np.float32)\n",
    "        dem2 = src2.read(1).astype(np.float32)\n",
    "\n",
    "        # Mask nodata values\n",
    "        mask = (dem1 == src1.nodata) | (dem2 == src2.nodata)\n",
    "        dod = dem2 - dem1\n",
    "        dod[mask] = np.nan\n",
    "\n",
    "        if output_path:\n",
    "            profile = src1.profile\n",
    "            profile.update(dtype='float32', nodata=np.nan)\n",
    "            with rasterio.open(output_path, 'w', **profile) as dst:\n",
    "                dst.write(dod, 1)\n",
    "\n",
    "    return dod\n"
   ]
  },
  {
   "cell_type": "code",
   "execution_count": 15,
   "id": "a2283f3c",
   "metadata": {},
   "outputs": [],
   "source": [
    "gdsm_tile = gdsmf_tiles[0]\n",
    "gdsm_tile_egm = gdsm_tile.replace('.tif', '_egm.tif')\n",
    "gdtm_tile = gdtmf_tiles[0]\n",
    "gdtm_tile_egm = gdtm_tile.replace('.tif', '_egm.tif')\n",
    "dod_tile = gdsm_tile.replace('gdsm_riofill0', 'dod')\n",
    "dod_tile_egm = gdsm_tile_egm.replace('gdsm_riofill0', 'dod')"
   ]
  },
  {
   "cell_type": "code",
   "execution_count": 16,
   "id": "d93188d4",
   "metadata": {},
   "outputs": [
    {
     "data": {
      "text/plain": [
       "('/media/ljp238/12TBWolf/BRCHIEVE/GDEM/TILES/N13E103/N13E103_dod.tif',\n",
       " '/media/ljp238/12TBWolf/BRCHIEVE/GDEM/TILES/N13E103/N13E103_dod_egm.tif')"
      ]
     },
     "execution_count": 16,
     "metadata": {},
     "output_type": "execute_result"
    }
   ],
   "source": [
    "\n",
    "dod_tile, dod_tile_egm"
   ]
  },
  {
   "cell_type": "code",
   "execution_count": 18,
   "id": "cc06e15c",
   "metadata": {},
   "outputs": [],
   "source": [
    "_ = calculate_dod(gdtm_tile_egm, gdsm_tile_egm, dod_tile_egm)\n",
    "_ = calculate_dod(gdtm_tile, gdsm_tile, dod_tile)"
   ]
  },
  {
   "cell_type": "code",
   "execution_count": null,
   "id": "1aedca03",
   "metadata": {},
   "outputs": [],
   "source": []
  },
  {
   "cell_type": "markdown",
   "id": "f078cefb",
   "metadata": {},
   "source": [
    "downxcale_gwr with edem"
   ]
  },
  {
   "cell_type": "markdown",
   "id": "cee2216c",
   "metadata": {},
   "source": [
    "we have done this with 1K regrid, try doing with 12 regrid"
   ]
  },
  {
   "cell_type": "code",
   "execution_count": null,
   "id": "3aaecf7e",
   "metadata": {},
   "outputs": [],
   "source": [
    "varpath = f\"{indir}/*/*{varname}.tif\"\n",
    "varfiles = glob(varpath)\n",
    "roivarfiles = [fi for fi in varfiles for t in roitilenames if t in fi]\n"
   ]
  },
  {
   "cell_type": "code",
   "execution_count": null,
   "id": "33232b12",
   "metadata": {},
   "outputs": [],
   "source": []
  },
  {
   "cell_type": "code",
   "execution_count": 10,
   "id": "e08fe175",
   "metadata": {},
   "outputs": [
    {
     "data": {
      "text/plain": [
       "(['/media/ljp238/12TBWolf/BRCHIEVE/GDEM/TILES/N13E103/N13E103_gdtm_riofill.tif'],\n",
       " ['/media/ljp238/12TBWolf/BRCHIEVE/GDEM/TILES/N13E103/N13E103_gdsm_riofill.tif'])"
      ]
     },
     "execution_count": 10,
     "metadata": {},
     "output_type": "execute_result"
    }
   ],
   "source": [
    "gdtmf_tiles,gdsmf_tiles"
   ]
  },
  {
   "cell_type": "code",
   "execution_count": null,
   "id": "03820a1e",
   "metadata": {},
   "outputs": [
    {
     "data": {
      "text/plain": [
       "'/media/ljp238/12TBWolf/BRCHIEVE/TILES12/N13E103/N13E103_egm08.tif'"
      ]
     },
     "execution_count": 13,
     "metadata": {},
     "output_type": "execute_result"
    }
   ],
   "source": [
    "\n"
   ]
  },
  {
   "cell_type": "code",
   "execution_count": null,
   "id": "2489def5",
   "metadata": {},
   "outputs": [],
   "source": []
  }
 ],
 "metadata": {
  "kernelspec": {
   "display_name": "agluon",
   "language": "python",
   "name": "python3"
  },
  "language_info": {
   "codemirror_mode": {
    "name": "ipython",
    "version": 3
   },
   "file_extension": ".py",
   "mimetype": "text/x-python",
   "name": "python",
   "nbconvert_exporter": "python",
   "pygments_lexer": "ipython3",
   "version": "3.11.11"
  }
 },
 "nbformat": 4,
 "nbformat_minor": 5
}
